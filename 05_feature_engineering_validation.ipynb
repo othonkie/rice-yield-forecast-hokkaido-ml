{
 "cells": [
  {
   "cell_type": "markdown",
   "id": "5004371d-a3e4-4fe8-9902-13a6d55dd34e",
   "metadata": {},
   "source": [
    "# 0. Model for Pre-Processing Assessment\n",
    "\n",
    "- **Purpose:**  \n",
    "  Establish a lightweight baseline to **quantify the impact** of each preprocessing step (feature engineering, resampling, etc.) before committing to the final pipeline.\n",
    "\n",
    "- **Estimator:**  \n",
    "  A simple regressor (`LightGBMRegressor` with default settings) so that differences in performance are driven by preprocessing, not by model complexity.\n",
    "\n",
    "- **Validation Strategy:**  \n",
    "  Use an **expanding-window** on your yearly data (e.g. train 2014–2019 → val 2020, train 2014–2020 → val 2021) to mimic real-world forecasting and avoid leakage.\n",
    "\n",
    "- **Evaluation Metrics:**  \n",
    "  Primary: **RMSE** (root mean squared error).  \n",
    "  Secondary: **MAE**, **R²**—to ensure robustness across different error measures."
   ]
  },
  {
   "cell_type": "code",
   "execution_count": 2,
   "id": "9e0bd383-fe91-4000-8ac6-645dfaf20219",
   "metadata": {},
   "outputs": [],
   "source": [
    "# Imports\n",
    "import pandas as pd\n",
    "import numpy as np\n",
    "import matplotlib.pyplot as plt\n",
    "from sklearn.neighbors import KNeighborsRegressor\n",
    "from sklearn.preprocessing import MinMaxScaler, StandardScaler\n",
    "from sklearn.decomposition import PCA\n",
    "from sklearn.preprocessing import KBinsDiscretizer\n",
    "from sklearn.compose import ColumnTransformer\n",
    "import resreg\n",
    "import itertools"
   ]
  },
  {
   "cell_type": "code",
   "execution_count": 3,
   "id": "09c48023-6c93-493b-9012-d5b732f2e676",
   "metadata": {},
   "outputs": [],
   "source": [
    "from lightgbm import LGBMRegressor\n",
    "from sklearn.metrics import mean_squared_error"
   ]
  },
  {
   "cell_type": "code",
   "execution_count": 4,
   "id": "c272eaeb-aca4-437d-98c1-d2a3cee11fdc",
   "metadata": {
    "tags": []
   },
   "outputs": [],
   "source": [
    "def assessment_model(X_train, X_test, y_train, y_test):\n",
    "    \"\"\"\n",
    "    Quickly evaluates the performance of a model after preprocessing,\n",
    "    using a balanced LightGBM configuration.\n",
    "    \"\"\"\n",
    "    model = LGBMRegressor(\n",
    "        objective='regression',\n",
    "        metric='rmse',\n",
    "        num_leaves=31,\n",
    "        max_depth=6,\n",
    "        min_child_samples=20,\n",
    "        subsample=0.8,\n",
    "        colsample_bytree=0.8,\n",
    "        learning_rate=0.05,\n",
    "        n_estimators=150,\n",
    "        reg_alpha=0.1,\n",
    "        reg_lambda=0.1,\n",
    "        random_state=42,\n",
    "        verbosity=-1\n",
    "    )\n",
    "\n",
    "    model.fit(X_train, y_train)\n",
    "    preds = model.predict(X_test)\n",
    "    rmse = mean_squared_error(y_test, preds, squared=False)\n",
    "\n",
    "    print(f\"✅ Preprocessing Assessment — RMSE: {rmse:.4f}\")\n",
    "    \n",
    "    return model"
   ]
  },
  {
   "cell_type": "markdown",
   "id": "4887b79f-9d80-42f1-812f-02feadb8b72e",
   "metadata": {},
   "source": [
    "# 1. Feature Engineering\n",
    "- Since this is a time-series-related dataset, the most recent years are reserved for the test set (Temporal Holdout with expanding window). This approach avoids data leakage — where the model might learn to predict past outcomes using information from the future — which would lead to unrealistic and overly optimistic test results. By splitting the data chronologically, we ensure that the evaluation reflects real-world performance, where future values are unknown during training.\"\n",
    "- After checking the dataframe on EDA and manually, NDVI_li seems to be the best one that reflects reality. So the other 2 were droped.\n",
    "_______________________"
   ]
  },
  {
   "cell_type": "code",
   "execution_count": 38,
   "id": "cf967392-e2af-4a2b-ad40-a7c582ceee2f",
   "metadata": {
    "tags": []
   },
   "outputs": [
    {
     "data": {
      "text/plain": [
       "Index(['市町村コード', '市町村名', 'year', 'Productivity', '作付面積', 'ET0_sum_veg',\n",
       "       'ET0_sum_rep', 'PTI_sum_veg', 'PTI_sum_rep', 'PTU_sum_veg',\n",
       "       'PTU_sum_rep', 'SWD_sum_veg', 'SWD_mean_veg', 'SWD_sum_rep',\n",
       "       'SWD_mean_rep', 'VPD_sum_veg', 'VPD_sum_rep', 'GDD_sum_veg',\n",
       "       'GDD_sum_rep', 'stress_combo_days_veg', 'stress_combo_days_rep',\n",
       "       'ideal_combo_days_veg', 'ideal_combo_days_rep', 'ALLSKY_days_ideal_veg',\n",
       "       'ALLSKY_days_low_veg', 'ALLSKY_days_extremely_low_veg',\n",
       "       'ALLSKY_days_high_veg', 'ALLSKY_days_ideal_rep', 'ALLSKY_days_low_rep',\n",
       "       'ALLSKY_days_extremely_low_rep', 'ALLSKY_days_high_rep', 'ALLSKY_5',\n",
       "       'ALLSKY_6', 'ALLSKY_7', 'ALLSKY_8', 'RH2M_days_ideal_veg',\n",
       "       'RH2M_days_high_veg', 'RH2M_days_very_high_veg', 'RH2M_days_ideal_rep',\n",
       "       'RH2M_days_high_rep', 'RH2M_days_very_high_rep',\n",
       "       'T2M_days_ideal_vegetative', 'T2M_days_low_vegetative',\n",
       "       'T2M_days_extremely_low_vegetative', 'T2M_days_ideal_reproductive',\n",
       "       'T2M_days_low_reproductive', 'T2M_days_extremely_low_reproductive',\n",
       "       'T2M_5', 'T2M_6', 'T2M_7', 'T2M_8', '緯度', '経度', 'NDVI_li_5',\n",
       "       'NDVI_li_6', 'NDVI_li_7', 'NDVI_li_8', 'NDVI_li_9', 'NDVI_li_10'],\n",
       "      dtype='object')"
      ]
     },
     "execution_count": 38,
     "metadata": {},
     "output_type": "execute_result"
    }
   ],
   "source": [
    "df = pd.read_csv(\"../datasets/weather_NDVI_harvest.csv\").copy()\n",
    "df.columns"
   ]
  },
  {
   "cell_type": "markdown",
   "id": "fced8f58-4527-445d-a6d0-294d77e68bdc",
   "metadata": {},
   "source": [
    "# Drop columns:\n",
    "- ID columns: `['市町村コード']` -> Will not help the preprocessing, nor the model.\n",
    "- Low information NDVI `['NDVI_li_9', 'NDVI_li_10']` -> months out of previous weather analysis.\n",
    "- Future columns to remove: `['市町村名', 'year']`"
   ]
  },
  {
   "cell_type": "code",
   "execution_count": 39,
   "id": "75c94f8d-dc86-4642-b433-f7c600e276a9",
   "metadata": {
    "tags": []
   },
   "outputs": [],
   "source": [
    "# Drop ID col\n",
    "df = df[['市町村名', 'year', 'Productivity', '作付面積', 'ET0_sum_veg',\n",
    "         'ET0_sum_rep', 'PTI_sum_veg', 'PTI_sum_rep', 'PTU_sum_veg',\n",
    "         'PTU_sum_rep', 'SWD_sum_veg', 'SWD_mean_veg', 'SWD_sum_rep',\n",
    "         'SWD_mean_rep', 'VPD_sum_veg', 'VPD_sum_rep', 'GDD_sum_veg',\n",
    "         'GDD_sum_rep', 'stress_combo_days_veg', 'stress_combo_days_rep',\n",
    "         'ideal_combo_days_veg', 'ideal_combo_days_rep', 'ALLSKY_days_ideal_veg',\n",
    "         'ALLSKY_days_low_veg', 'ALLSKY_days_extremely_low_veg',\n",
    "         'ALLSKY_days_high_veg', 'ALLSKY_days_ideal_rep', 'ALLSKY_days_low_rep',\n",
    "         'ALLSKY_days_extremely_low_rep', 'ALLSKY_days_high_rep', 'ALLSKY_5',\n",
    "         'ALLSKY_6', 'ALLSKY_7', 'ALLSKY_8', 'RH2M_days_ideal_veg',\n",
    "         'RH2M_days_high_veg', 'RH2M_days_very_high_veg', 'RH2M_days_ideal_rep',\n",
    "         'RH2M_days_high_rep', 'RH2M_days_very_high_rep',\n",
    "         'T2M_days_ideal_vegetative', 'T2M_days_low_vegetative',\n",
    "         'T2M_days_extremely_low_vegetative', 'T2M_days_ideal_reproductive',\n",
    "         'T2M_days_low_reproductive', 'T2M_days_extremely_low_reproductive',\n",
    "         'T2M_5', 'T2M_6', 'T2M_7', 'T2M_8',\n",
    "         '緯度', '経度', 'NDVI_li_5', 'NDVI_li_6', 'NDVI_li_7', 'NDVI_li_8']]"
   ]
  },
  {
   "cell_type": "markdown",
   "id": "84e3b846-e6ad-4393-af37-64c8af443c95",
   "metadata": {},
   "source": [
    "# 1.1. 🌱 NDVI-based Features for Crop Yield Prediction\n",
    "1. NDVI_active_count\n",
    "Definition: <br>\n",
    "This feature counts the number of months (from May to August) where the NDVI value is greater than or equal to 0.6.\n",
    "\n",
    "Why it matters: <br>\n",
    "An NDVI value above 0.6 generally indicates strong photosynthetic activity, which reflects healthy vegetation growth. By counting how many of these months show such activity, the model gains insight into how consistently the crop remained in a productive state during the growing season. Crops that maintain high NDVI longer are likely to yield better.\n",
    "\n",
    "2. NDVI_AUC (Area Under Curve)\n",
    "Definition: <br>\n",
    "This feature is the sum of the monthly NDVI values between May and August, effectively approximating the area under the NDVI curve for the season.\n",
    "\n",
    "Why it matters: <br>\n",
    "This metric captures the total vegetative performance across the critical months. Even if a crop doesn't have consistently high NDVI, a few very strong months can still lead to a good yield. NDVI_AUC reflects cumulative vigor and is especially useful in quantifying variability between different city-seasons or fields."
   ]
  },
  {
   "cell_type": "code",
   "execution_count": 40,
   "id": "4d88cbf0-d7a4-44ba-9670-c4675bdea4cf",
   "metadata": {
    "tags": []
   },
   "outputs": [
    {
     "name": "stdout",
     "output_type": "stream",
     "text": [
      "<class 'pandas.core.frame.DataFrame'>\n",
      "RangeIndex: 1051 entries, 0 to 1050\n",
      "Data columns (total 69 columns):\n",
      " #   Column                               Non-Null Count  Dtype  \n",
      "---  ------                               --------------  -----  \n",
      " 0   市町村名                                 1051 non-null   object \n",
      " 1   year                                 1051 non-null   int64  \n",
      " 2   Productivity                         1051 non-null   float64\n",
      " 3   作付面積                                 1051 non-null   float64\n",
      " 4   ET0_sum_veg                          1051 non-null   float64\n",
      " 5   ET0_sum_rep                          1051 non-null   float64\n",
      " 6   PTI_sum_veg                          1051 non-null   float64\n",
      " 7   PTI_sum_rep                          1051 non-null   float64\n",
      " 8   PTU_sum_veg                          1051 non-null   float64\n",
      " 9   PTU_sum_rep                          1051 non-null   float64\n",
      " 10  SWD_sum_veg                          1051 non-null   float64\n",
      " 11  SWD_mean_veg                         1051 non-null   float64\n",
      " 12  SWD_sum_rep                          1051 non-null   float64\n",
      " 13  SWD_mean_rep                         1051 non-null   float64\n",
      " 14  VPD_sum_veg                          1051 non-null   float64\n",
      " 15  VPD_sum_rep                          1051 non-null   float64\n",
      " 16  GDD_sum_veg                          1051 non-null   float64\n",
      " 17  GDD_sum_rep                          1051 non-null   float64\n",
      " 18  stress_combo_days_veg                1051 non-null   int64  \n",
      " 19  stress_combo_days_rep                1051 non-null   int64  \n",
      " 20  ideal_combo_days_veg                 1051 non-null   int64  \n",
      " 21  ideal_combo_days_rep                 1051 non-null   int64  \n",
      " 22  ALLSKY_days_ideal_veg                1051 non-null   int64  \n",
      " 23  ALLSKY_days_low_veg                  1051 non-null   int64  \n",
      " 24  ALLSKY_days_extremely_low_veg        1051 non-null   int64  \n",
      " 25  ALLSKY_days_high_veg                 1051 non-null   int64  \n",
      " 26  ALLSKY_days_ideal_rep                1051 non-null   int64  \n",
      " 27  ALLSKY_days_low_rep                  1051 non-null   int64  \n",
      " 28  ALLSKY_days_extremely_low_rep        1051 non-null   int64  \n",
      " 29  ALLSKY_days_high_rep                 1051 non-null   int64  \n",
      " 30  ALLSKY_5                             1051 non-null   float64\n",
      " 31  ALLSKY_6                             1051 non-null   float64\n",
      " 32  ALLSKY_7                             1051 non-null   float64\n",
      " 33  ALLSKY_8                             1051 non-null   float64\n",
      " 34  RH2M_days_ideal_veg                  1051 non-null   int64  \n",
      " 35  RH2M_days_high_veg                   1051 non-null   int64  \n",
      " 36  RH2M_days_very_high_veg              1051 non-null   int64  \n",
      " 37  RH2M_days_ideal_rep                  1051 non-null   int64  \n",
      " 38  RH2M_days_high_rep                   1051 non-null   int64  \n",
      " 39  RH2M_days_very_high_rep              1051 non-null   int64  \n",
      " 40  T2M_days_ideal_vegetative            1051 non-null   int64  \n",
      " 41  T2M_days_low_vegetative              1051 non-null   int64  \n",
      " 42  T2M_days_extremely_low_vegetative    1051 non-null   int64  \n",
      " 43  T2M_days_ideal_reproductive          1051 non-null   int64  \n",
      " 44  T2M_days_low_reproductive            1051 non-null   int64  \n",
      " 45  T2M_days_extremely_low_reproductive  1051 non-null   int64  \n",
      " 46  T2M_5                                1051 non-null   float64\n",
      " 47  T2M_6                                1051 non-null   float64\n",
      " 48  T2M_7                                1051 non-null   float64\n",
      " 49  T2M_8                                1051 non-null   float64\n",
      " 50  緯度                                   1051 non-null   float64\n",
      " 51  経度                                   1051 non-null   float64\n",
      " 52  NDVI_li_5                            1051 non-null   float64\n",
      " 53  NDVI_li_6                            1051 non-null   float64\n",
      " 54  NDVI_li_7                            1051 non-null   float64\n",
      " 55  NDVI_li_8                            1051 non-null   float64\n",
      " 56  NDVI_active_count                    1051 non-null   int64  \n",
      " 57  NDVI_AUC                             1051 non-null   float64\n",
      " 58  NDVI_mean                            1051 non-null   float64\n",
      " 59  NDVI_max                             1051 non-null   float64\n",
      " 60  NDVI_std                             1051 non-null   float64\n",
      " 61  NDVI_range                           1051 non-null   float64\n",
      " 62  NDVI_min                             1051 non-null   float64\n",
      " 63  NDVI_median                          1051 non-null   float64\n",
      " 64  NDVI_time_to_max                     1051 non-null   int64  \n",
      " 65  ALLSKY_NDVI_5                        1051 non-null   float64\n",
      " 66  ALLSKY_NDVI_6                        1051 non-null   float64\n",
      " 67  ALLSKY_NDVI_7                        1051 non-null   float64\n",
      " 68  ALLSKY_NDVI_8                        1051 non-null   float64\n",
      "dtypes: float64(41), int64(27), object(1)\n",
      "memory usage: 566.7+ KB\n"
     ]
    }
   ],
   "source": [
    "# NDVI columns per month (May to August)\n",
    "ndvi_cols = ['NDVI_li_5', 'NDVI_li_6', 'NDVI_li_7', 'NDVI_li_8']\n",
    "\n",
    "# NDVI_ACTIVE_COUNT: number of months with NDVI ≥ 0.6 (indicative of vegetative activity)\n",
    "df['NDVI_active_count'] = df[ndvi_cols].ge(0.6).sum(axis=1)\n",
    "\n",
    "# NDVI_AUC: simple area under the NDVI curve (sum over the months, equally spaced)\n",
    "df['NDVI_AUC'] = df[ndvi_cols].sum(axis=1)\n",
    "\n",
    "# NDVI_MEAN: average NDVI from May to August\n",
    "df['NDVI_mean'] = df[ndvi_cols].mean(axis=1)\n",
    "\n",
    "# NDVI_MAX: peak NDVI during the period\n",
    "df['NDVI_max'] = df[ndvi_cols].max(axis=1)\n",
    "\n",
    "# NDVI_STD: standard deviation (instability indicator)\n",
    "df['NDVI_std'] = df[ndvi_cols].std(axis=1)\n",
    "\n",
    "# NDVI_RANGE: max - min (variability of the signal)\n",
    "df['NDVI_range'] = df[ndvi_cols].max(axis=1) - df[ndvi_cols].min(axis=1)\n",
    "\n",
    "# NDVI_MIN: minimum NDVI in the period\n",
    "df['NDVI_min'] = df[ndvi_cols].min(axis=1)\n",
    "\n",
    "# NDVI_MEDIAN: more robust to clouds/outliers\n",
    "df['NDVI_median'] = df[ndvi_cols].median(axis=1)\n",
    "\n",
    "# NDVI_TIME_TO_MAX: index of month with highest NDVI (0 = May, 1 = June, ...)\n",
    "df['NDVI_time_to_max'] = df[ndvi_cols].idxmax(axis=1).apply(lambda col: ndvi_cols.index(col))\n",
    "\n",
    "# Months list\n",
    "months_list = [5, 6, 7, 8]\n",
    "\n",
    "# ALLSKY x NDVI each month\n",
    "for month in months_list:\n",
    "    df[f'ALLSKY_NDVI_{month}'] = df[f'ALLSKY_{month}'] * df[f'NDVI_li_{month}']\n",
    "\n",
    "df.info()"
   ]
  },
  {
   "cell_type": "code",
   "execution_count": 41,
   "id": "cb947a19-949d-4ea5-9660-ce2501dc7ca1",
   "metadata": {},
   "outputs": [
    {
     "data": {
      "image/png": "[encoded data removed]",
      "text/plain": [
       "<Figure size 1400x800 with 1 Axes>"
      ]
     },
     "metadata": {},
     "output_type": "display_data"
    }
   ],
   "source": [
    "import matplotlib.pyplot as plt\n",
    "\n",
    "# Lista das colunas NDVI derivadas + Productivity\n",
    "cols_to_plot = [\n",
    "    'NDVI_active_count', 'NDVI_AUC', 'NDVI_mean', 'NDVI_max',\n",
    "    'NDVI_std', 'NDVI_range', 'NDVI_min', 'NDVI_median', 'NDVI_time_to_max',\n",
    "    'NDVI_li_5', 'NDVI_li_6', 'NDVI_li_7', 'NDVI_li_8',\n",
    "    'ALLSKY_5', 'ALLSKY_6', 'ALLSKY_7', 'ALLSKY_8',\n",
    "    'ALLSKY_NDVI_5', 'ALLSKY_NDVI_6', 'ALLSKY_NDVI_7', 'ALLSKY_NDVI_8'\n",
    "]\n",
    "\n",
    "# Agrupar por ano e tirar a média para cada feature\n",
    "df_grouped = df.groupby('year')[cols_to_plot].mean().reset_index()\n",
    "\n",
    "# Plotando\n",
    "plt.style.use('dark_background')\n",
    "plt.figure(figsize=(14, 8))\n",
    "\n",
    "for col in cols_to_plot:\n",
    "    plt.plot(df_grouped['year'], df_grouped[col], label=col, linewidth=2)\n",
    "\n",
    "plt.xlabel('Ano', fontsize=12)\n",
    "plt.ylabel('Valor Médio', fontsize=12)\n",
    "plt.title('Evolução de NDVI Features e Produtividade por Ano', fontsize=14)\n",
    "plt.legend(loc='upper left', bbox_to_anchor=(1.02, 1), borderaxespad=0)\n",
    "plt.grid(True, linestyle='--', alpha=0.5)\n",
    "plt.tight_layout()\n",
    "plt.show()"
   ]
  },
  {
   "cell_type": "markdown",
   "id": "57e9e1d9-b783-4060-b1bf-8e0c8f7b3b39",
   "metadata": {
    "tags": []
   },
   "source": [
    "# 1.2. 🏙️ Historic 'Productivity' Mean per City as a New Feature, and Train/Test Split\n",
    "______________________________\n",
    "Validation years: 2020 and 2021\n",
    "\n",
    "Test years: 2022 and 2023\n",
    "\n",
    "To ensure a fair evaluation and avoid data leakage, it's crucial to split the data into train/validation/test sets before calculating the historical mean productivity per city. This prevents future information from being included in the training process, preserving the integrity of the model.\n",
    "\n",
    "The historical mean will be computed using only data prior to the target year:\n",
    "\n",
    "For validation in 2020, use data from [2014 to 2019] <br>\n",
    "For validation in 2021, use data from [2014 to 2020] <br>\n",
    "For testing in 2022, use data from [2014 to 2021] <br>\n",
    "For testing in 2023, use data from [2014 to 2022] <br>\n",
    "\n",
    "**Historic Productivity Mean per City <br>\n",
    "This feature replaces the raw latitude / longitude pair with a single scalar that reflects each city’s typical yield, calculated from all past years up to (but not including) the target year.**\n",
    "\n",
    "**In Notebook 04 we saw that latitude and longitude can help separate high-yield from low-yield regions, but decision-tree models must learn that separation through many axis-aligned splits. By precomputing each city’s historical average productivity, we provide the model with one one-dimensional, location-aware feature that:**\n",
    "\n",
    "- Encodes spatial patterns (cities that are consistently more or less productive)\n",
    "\n",
    "- Reduces the number of splits needed to distinguish regions\n",
    "\n",
    "- Improves interpretability and training speed without sacrificing performance"
   ]
  },
  {
   "cell_type": "code",
   "execution_count": 42,
   "id": "3a527cdb-6018-4424-a229-2a2fbd2e0d61",
   "metadata": {
    "tags": []
   },
   "outputs": [],
   "source": [
    "def temporal_aware_train_test_split(df, year_predict, provide_X_y=False):\n",
    "    # Train test split\n",
    "    df_train = df[df['year'] < year_predict].copy()\n",
    "    df_test = df[df['year'] == year_predict].copy()\n",
    "    \n",
    "    if provide_X_y:\n",
    "        # Obtain X_train, X_test, y_train, y_test\n",
    "        y_train = df_train['Productivity']\n",
    "        y_test = df_test['Productivity']\n",
    "\n",
    "        X_train = df_train.drop(columns=['市町村名', 'Productivity', 'year'])\n",
    "        X_test = df_test.drop(columns=['市町村名', 'Productivity', 'year'])\n",
    "        return X_train, X_test, y_train, y_test\n",
    "    else:\n",
    "        return df_train, df_test"
   ]
  },
  {
   "cell_type": "code",
   "execution_count": 43,
   "id": "fe20560a-2d1a-4dc2-9017-ac8a33c7f6f0",
   "metadata": {
    "tags": []
   },
   "outputs": [
    {
     "name": "stdout",
     "output_type": "stream",
     "text": [
      "Validation 2020:\n",
      "✅ Preprocessing Assessment — RMSE: 34.8283\n",
      "Validation 2021:\n",
      "✅ Preprocessing Assessment — RMSE: 32.2590\n"
     ]
    },
    {
     "data": {
      "text/html": [
       "<style>#sk-container-id-6 {color: black;background-color: white;}#sk-container-id-6 pre{padding: 0;}#sk-container-id-6 div.sk-toggleable {background-color: white;}#sk-container-id-6 label.sk-toggleable__label {cursor: pointer;display: block;width: 100%;margin-bottom: 0;padding: 0.3em;box-sizing: border-box;text-align: center;}#sk-container-id-6 label.sk-toggleable__label-arrow:before {content: \"▸\";float: left;margin-right: 0.25em;color: #696969;}#sk-container-id-6 label.sk-toggleable__label-arrow:hover:before {color: black;}#sk-container-id-6 div.sk-estimator:hover label.sk-toggleable__label-arrow:before {color: black;}#sk-container-id-6 div.sk-toggleable__content {max-height: 0;max-width: 0;overflow: hidden;text-align: left;background-color: #f0f8ff;}#sk-container-id-6 div.sk-toggleable__content pre {margin: 0.2em;color: black;border-radius: 0.25em;background-color: #f0f8ff;}#sk-container-id-6 input.sk-toggleable__control:checked~div.sk-toggleable__content {max-height: 200px;max-width: 100%;overflow: auto;}#sk-container-id-6 input.sk-toggleable__control:checked~label.sk-toggleable__label-arrow:before {content: \"▾\";}#sk-container-id-6 div.sk-estimator input.sk-toggleable__control:checked~label.sk-toggleable__label {background-color: #d4ebff;}#sk-container-id-6 div.sk-label input.sk-toggleable__control:checked~label.sk-toggleable__label {background-color: #d4ebff;}#sk-container-id-6 input.sk-hidden--visually {border: 0;clip: rect(1px 1px 1px 1px);clip: rect(1px, 1px, 1px, 1px);height: 1px;margin: -1px;overflow: hidden;padding: 0;position: absolute;width: 1px;}#sk-container-id-6 div.sk-estimator {font-family: monospace;background-color: #f0f8ff;border: 1px dotted black;border-radius: 0.25em;box-sizing: border-box;margin-bottom: 0.5em;}#sk-container-id-6 div.sk-estimator:hover {background-color: #d4ebff;}#sk-container-id-6 div.sk-parallel-item::after {content: \"\";width: 100%;border-bottom: 1px solid gray;flex-grow: 1;}#sk-container-id-6 div.sk-label:hover label.sk-toggleable__label {background-color: #d4ebff;}#sk-container-id-6 div.sk-serial::before {content: \"\";position: absolute;border-left: 1px solid gray;box-sizing: border-box;top: 0;bottom: 0;left: 50%;z-index: 0;}#sk-container-id-6 div.sk-serial {display: flex;flex-direction: column;align-items: center;background-color: white;padding-right: 0.2em;padding-left: 0.2em;position: relative;}#sk-container-id-6 div.sk-item {position: relative;z-index: 1;}#sk-container-id-6 div.sk-parallel {display: flex;align-items: stretch;justify-content: center;background-color: white;position: relative;}#sk-container-id-6 div.sk-item::before, #sk-container-id-6 div.sk-parallel-item::before {content: \"\";position: absolute;border-left: 1px solid gray;box-sizing: border-box;top: 0;bottom: 0;left: 50%;z-index: -1;}#sk-container-id-6 div.sk-parallel-item {display: flex;flex-direction: column;z-index: 1;position: relative;background-color: white;}#sk-container-id-6 div.sk-parallel-item:first-child::after {align-self: flex-end;width: 50%;}#sk-container-id-6 div.sk-parallel-item:last-child::after {align-self: flex-start;width: 50%;}#sk-container-id-6 div.sk-parallel-item:only-child::after {width: 0;}#sk-container-id-6 div.sk-dashed-wrapped {border: 1px dashed gray;margin: 0 0.4em 0.5em 0.4em;box-sizing: border-box;padding-bottom: 0.4em;background-color: white;}#sk-container-id-6 div.sk-label label {font-family: monospace;font-weight: bold;display: inline-block;line-height: 1.2em;}#sk-container-id-6 div.sk-label-container {text-align: center;}#sk-container-id-6 div.sk-container {/* jupyter's `normalize.less` sets `[hidden] { display: none; }` but bootstrap.min.css set `[hidden] { display: none !important; }` so we also need the `!important` here to be able to override the default hidden behavior on the sphinx rendered scikit-learn.org. See: https://github.com/scikit-learn/scikit-learn/issues/21755 */display: inline-block !important;position: relative;}#sk-container-id-6 div.sk-text-repr-fallback {display: none;}</style><div id=\"sk-container-id-6\" class=\"sk-top-container\"><div class=\"sk-text-repr-fallback\"><pre>LGBMRegressor(colsample_bytree=0.8, learning_rate=0.05, max_depth=6,\n",
       "              metric=&#x27;rmse&#x27;, n_estimators=150, objective=&#x27;regression&#x27;,\n",
       "              random_state=42, reg_alpha=0.1, reg_lambda=0.1, subsample=0.8,\n",
       "              verbosity=-1)</pre><b>In a Jupyter environment, please rerun this cell to show the HTML representation or trust the notebook. <br />On GitHub, the HTML representation is unable to render, please try loading this page with nbviewer.org.</b></div><div class=\"sk-container\" hidden><div class=\"sk-item\"><div class=\"sk-estimator sk-toggleable\"><input class=\"sk-toggleable__control sk-hidden--visually\" id=\"sk-estimator-id-6\" type=\"checkbox\" checked><label for=\"sk-estimator-id-6\" class=\"sk-toggleable__label sk-toggleable__label-arrow\">LGBMRegressor</label><div class=\"sk-toggleable__content\"><pre>LGBMRegressor(colsample_bytree=0.8, learning_rate=0.05, max_depth=6,\n",
       "              metric=&#x27;rmse&#x27;, n_estimators=150, objective=&#x27;regression&#x27;,\n",
       "              random_state=42, reg_alpha=0.1, reg_lambda=0.1, subsample=0.8,\n",
       "              verbosity=-1)</pre></div></div></div></div></div>"
      ],
      "text/plain": [
       "LGBMRegressor(colsample_bytree=0.8, learning_rate=0.05, max_depth=6,\n",
       "              metric='rmse', n_estimators=150, objective='regression',\n",
       "              random_state=42, reg_alpha=0.1, reg_lambda=0.1, subsample=0.8,\n",
       "              verbosity=-1)"
      ]
     },
     "execution_count": 43,
     "metadata": {},
     "output_type": "execute_result"
    }
   ],
   "source": [
    "# Assess with Model:\n",
    "print(\"Validation 2020:\")\n",
    "X_train, X_test, y_train, y_test = temporal_aware_train_test_split(df=df,\n",
    "                                                                   year_predict=2020,\n",
    "                                                                   provide_X_y=True)\n",
    "assessment_model(X_train=X_train,\n",
    "                 X_test=X_test,\n",
    "                 y_train=y_train,\n",
    "                 y_test=y_test)\n",
    "\n",
    "print(\"Validation 2021:\")\n",
    "X_train, X_test, y_train, y_test = temporal_aware_train_test_split(df=df,\n",
    "                                                                   year_predict=2021,\n",
    "                                                                   provide_X_y=True)\n",
    "assessment_model(X_train=X_train,\n",
    "                 X_test=X_test,\n",
    "                 y_train=y_train,\n",
    "                 y_test=y_test)"
   ]
  },
  {
   "cell_type": "code",
   "execution_count": 44,
   "id": "c7e65b02-922c-41cf-8c7b-da5766176830",
   "metadata": {
    "tags": []
   },
   "outputs": [],
   "source": [
    "def add_city_historical_mean_feature(df_train, df_test, year_predict):\n",
    "    \"\"\"\n",
    "    Adds a feature representing the historical mean productivity per city\n",
    "    for a given prediction year, avoiding lookahead bias.\n",
    "\n",
    "    Parameters:\n",
    "        df (pd.DataFrame): Input DataFrame containing at least city, year, and target columns.\n",
    "        year_predict (int): The year to isolate as validation/test. Data before this year is used to compute means.\n",
    "        city_col (str): Name of the column indicating city/region.\n",
    "        target_col (str): Name of the column containing the productivity target.\n",
    "        fillna_global_mean (bool): Whether to fill missing cities in test set with global mean from training.\n",
    "\n",
    "    Returns:\n",
    "        tuple (pd.DataFrame, pd.DataFrame): Modified training and test DataFrames with the new feature.\n",
    "    \"\"\"\n",
    "\n",
    "    # Create a dictionary with the mean yield per city (no lookahead!)\n",
    "    mean_yield_by_city = df_train.groupby('市町村名')['Productivity'].mean().to_dict()\n",
    "\n",
    "    # Assign the mean values directly to X_train, like a fit_transform\n",
    "    df_train['mean_productivity_city'] = df_train['市町村名'].map(mean_yield_by_city)\n",
    "\n",
    "    # Apply the same mean values to the corresponding cities in X_test, like a transform\n",
    "    df_test['mean_productivity_city'] = df_test['市町村名'].map(mean_yield_by_city)\n",
    "    \n",
    "    # Obtain X_train, X_test, y_train, y_test\n",
    "    y_train = df_train['Productivity']\n",
    "    y_test = df_test['Productivity']\n",
    "\n",
    "    X_train = df_train.drop(columns=['市町村名', 'Productivity', 'year'])\n",
    "    X_test = df_test.drop(columns=['市町村名', 'Productivity', 'year'])\n",
    "    \n",
    "    return X_train, X_test, y_train, y_test"
   ]
  },
  {
   "cell_type": "code",
   "execution_count": 45,
   "id": "1e387667-2d67-443e-b369-f0e7960a649a",
   "metadata": {
    "tags": []
   },
   "outputs": [
    {
     "name": "stdout",
     "output_type": "stream",
     "text": [
      "Validation 2020:\n",
      "✅ Preprocessing Assessment — RMSE: 30.1821\n",
      "Validation 2021:\n",
      "✅ Preprocessing Assessment — RMSE: 23.9455\n"
     ]
    },
    {
     "data": {
      "text/html": [
       "<style>#sk-container-id-7 {color: black;background-color: white;}#sk-container-id-7 pre{padding: 0;}#sk-container-id-7 div.sk-toggleable {background-color: white;}#sk-container-id-7 label.sk-toggleable__label {cursor: pointer;display: block;width: 100%;margin-bottom: 0;padding: 0.3em;box-sizing: border-box;text-align: center;}#sk-container-id-7 label.sk-toggleable__label-arrow:before {content: \"▸\";float: left;margin-right: 0.25em;color: #696969;}#sk-container-id-7 label.sk-toggleable__label-arrow:hover:before {color: black;}#sk-container-id-7 div.sk-estimator:hover label.sk-toggleable__label-arrow:before {color: black;}#sk-container-id-7 div.sk-toggleable__content {max-height: 0;max-width: 0;overflow: hidden;text-align: left;background-color: #f0f8ff;}#sk-container-id-7 div.sk-toggleable__content pre {margin: 0.2em;color: black;border-radius: 0.25em;background-color: #f0f8ff;}#sk-container-id-7 input.sk-toggleable__control:checked~div.sk-toggleable__content {max-height: 200px;max-width: 100%;overflow: auto;}#sk-container-id-7 input.sk-toggleable__control:checked~label.sk-toggleable__label-arrow:before {content: \"▾\";}#sk-container-id-7 div.sk-estimator input.sk-toggleable__control:checked~label.sk-toggleable__label {background-color: #d4ebff;}#sk-container-id-7 div.sk-label input.sk-toggleable__control:checked~label.sk-toggleable__label {background-color: #d4ebff;}#sk-container-id-7 input.sk-hidden--visually {border: 0;clip: rect(1px 1px 1px 1px);clip: rect(1px, 1px, 1px, 1px);height: 1px;margin: -1px;overflow: hidden;padding: 0;position: absolute;width: 1px;}#sk-container-id-7 div.sk-estimator {font-family: monospace;background-color: #f0f8ff;border: 1px dotted black;border-radius: 0.25em;box-sizing: border-box;margin-bottom: 0.5em;}#sk-container-id-7 div.sk-estimator:hover {background-color: #d4ebff;}#sk-container-id-7 div.sk-parallel-item::after {content: \"\";width: 100%;border-bottom: 1px solid gray;flex-grow: 1;}#sk-container-id-7 div.sk-label:hover label.sk-toggleable__label {background-color: #d4ebff;}#sk-container-id-7 div.sk-serial::before {content: \"\";position: absolute;border-left: 1px solid gray;box-sizing: border-box;top: 0;bottom: 0;left: 50%;z-index: 0;}#sk-container-id-7 div.sk-serial {display: flex;flex-direction: column;align-items: center;background-color: white;padding-right: 0.2em;padding-left: 0.2em;position: relative;}#sk-container-id-7 div.sk-item {position: relative;z-index: 1;}#sk-container-id-7 div.sk-parallel {display: flex;align-items: stretch;justify-content: center;background-color: white;position: relative;}#sk-container-id-7 div.sk-item::before, #sk-container-id-7 div.sk-parallel-item::before {content: \"\";position: absolute;border-left: 1px solid gray;box-sizing: border-box;top: 0;bottom: 0;left: 50%;z-index: -1;}#sk-container-id-7 div.sk-parallel-item {display: flex;flex-direction: column;z-index: 1;position: relative;background-color: white;}#sk-container-id-7 div.sk-parallel-item:first-child::after {align-self: flex-end;width: 50%;}#sk-container-id-7 div.sk-parallel-item:last-child::after {align-self: flex-start;width: 50%;}#sk-container-id-7 div.sk-parallel-item:only-child::after {width: 0;}#sk-container-id-7 div.sk-dashed-wrapped {border: 1px dashed gray;margin: 0 0.4em 0.5em 0.4em;box-sizing: border-box;padding-bottom: 0.4em;background-color: white;}#sk-container-id-7 div.sk-label label {font-family: monospace;font-weight: bold;display: inline-block;line-height: 1.2em;}#sk-container-id-7 div.sk-label-container {text-align: center;}#sk-container-id-7 div.sk-container {/* jupyter's `normalize.less` sets `[hidden] { display: none; }` but bootstrap.min.css set `[hidden] { display: none !important; }` so we also need the `!important` here to be able to override the default hidden behavior on the sphinx rendered scikit-learn.org. See: https://github.com/scikit-learn/scikit-learn/issues/21755 */display: inline-block !important;position: relative;}#sk-container-id-7 div.sk-text-repr-fallback {display: none;}</style><div id=\"sk-container-id-7\" class=\"sk-top-container\"><div class=\"sk-text-repr-fallback\"><pre>LGBMRegressor(colsample_bytree=0.8, learning_rate=0.05, max_depth=6,\n",
       "              metric=&#x27;rmse&#x27;, n_estimators=150, objective=&#x27;regression&#x27;,\n",
       "              random_state=42, reg_alpha=0.1, reg_lambda=0.1, subsample=0.8,\n",
       "              verbosity=-1)</pre><b>In a Jupyter environment, please rerun this cell to show the HTML representation or trust the notebook. <br />On GitHub, the HTML representation is unable to render, please try loading this page with nbviewer.org.</b></div><div class=\"sk-container\" hidden><div class=\"sk-item\"><div class=\"sk-estimator sk-toggleable\"><input class=\"sk-toggleable__control sk-hidden--visually\" id=\"sk-estimator-id-7\" type=\"checkbox\" checked><label for=\"sk-estimator-id-7\" class=\"sk-toggleable__label sk-toggleable__label-arrow\">LGBMRegressor</label><div class=\"sk-toggleable__content\"><pre>LGBMRegressor(colsample_bytree=0.8, learning_rate=0.05, max_depth=6,\n",
       "              metric=&#x27;rmse&#x27;, n_estimators=150, objective=&#x27;regression&#x27;,\n",
       "              random_state=42, reg_alpha=0.1, reg_lambda=0.1, subsample=0.8,\n",
       "              verbosity=-1)</pre></div></div></div></div></div>"
      ],
      "text/plain": [
       "LGBMRegressor(colsample_bytree=0.8, learning_rate=0.05, max_depth=6,\n",
       "              metric='rmse', n_estimators=150, objective='regression',\n",
       "              random_state=42, reg_alpha=0.1, reg_lambda=0.1, subsample=0.8,\n",
       "              verbosity=-1)"
      ]
     },
     "execution_count": 45,
     "metadata": {},
     "output_type": "execute_result"
    }
   ],
   "source": [
    "# Assess with Model:\n",
    "print(\"Validation 2020:\")\n",
    "df_train, df_test = temporal_aware_train_test_split(df=df,\n",
    "                                                    year_predict=2020)\n",
    "X_train, X_test, y_train, y_test = add_city_historical_mean_feature(df_train=df_train,\n",
    "                                                                    df_test=df_test,\n",
    "                                                                    year_predict=2020)\n",
    "\n",
    "assessment_model(X_train=X_train,\n",
    "                 X_test=X_test,\n",
    "                 y_train=y_train,\n",
    "                 y_test=y_test)\n",
    "\n",
    "print(\"Validation 2021:\")\n",
    "df_train, df_test = temporal_aware_train_test_split(df=df,\n",
    "                                                    year_predict=2021)\n",
    "X_train, X_test, y_train, y_test = add_city_historical_mean_feature(df_train=df_train,\n",
    "                                                                    df_test=df_test,\n",
    "                                                                    year_predict=2021)\n",
    "assessment_model(X_train=X_train,\n",
    "                 X_test=X_test,\n",
    "                 y_train=y_train,\n",
    "                 y_test=y_test)"
   ]
  },
  {
   "cell_type": "markdown",
   "id": "7b47005f-58e0-4dca-a53b-b1f250d2d19a",
   "metadata": {},
   "source": [
    "# 1.2.2. Trimmed Historic Productivity Mean (avoids extreme values when calculating the average productivity per city per year)\n",
    "- The previous assessed Mean may be influenced by extremes (outliers) from the target.\n",
    "______________________________"
   ]
  },
  {
   "cell_type": "code",
   "execution_count": 46,
   "id": "406b58a4-40f2-4805-9628-031d9d644eab",
   "metadata": {},
   "outputs": [],
   "source": [
    "def trimmed_add_city_historical_mean_feature(df_train, df_test, year_predict):\n",
    "    \"\"\"\n",
    "    Adds a feature representing the historical trimmed mean productivity per city\n",
    "    for a given prediction year, avoiding lookahead bias.\n",
    "\n",
    "    For each city, the minimum and maximum productivity values are excluded \n",
    "    before calculating the mean.\n",
    "\n",
    "    Returns:\n",
    "        tuple (pd.DataFrame, pd.DataFrame): Modified training and test DataFrames with the new feature.\n",
    "    \"\"\"\n",
    "\n",
    "    # Create dictionary: trimmed mean productivity per city (excluding min and max)\n",
    "    mean_yield_by_city = {}\n",
    "    for city, group in df_train.groupby('市町村名')['Productivity']:\n",
    "        if len(group) > 2:\n",
    "            trimmed_group = group.drop([group.idxmin(), group.idxmax()])\n",
    "            mean_yield_by_city[city] = trimmed_group.mean()\n",
    "        else:\n",
    "            # If there are only 2 or fewer values, just take the regular mean\n",
    "            mean_yield_by_city[city] = group.mean()\n",
    "\n",
    "    # Assign the trimmed mean values to training set\n",
    "    df_train['trimmed_mean_productivity_city'] = df_train['市町村名'].map(mean_yield_by_city)\n",
    "\n",
    "    # Apply the same trimmed mean values to test set\n",
    "    df_test['trimmed_mean_productivity_city'] = df_test['市町村名'].map(mean_yield_by_city)\n",
    "    \n",
    "    # Separate features and target\n",
    "    y_train = df_train['Productivity']\n",
    "    y_test = df_test['Productivity']\n",
    "\n",
    "    X_train = df_train.drop(columns=['市町村名', 'Productivity', 'year'])\n",
    "    X_test = df_test.drop(columns=['市町村名', 'Productivity', 'year'])\n",
    "    \n",
    "    return X_train, X_test, y_train, y_test"
   ]
  },
  {
   "cell_type": "code",
   "execution_count": 47,
   "id": "c2f71695-eb01-472a-bf12-43278b5bb6f1",
   "metadata": {},
   "outputs": [
    {
     "name": "stdout",
     "output_type": "stream",
     "text": [
      "Validation 2020:\n",
      "✅ Preprocessing Assessment — RMSE: 29.0180\n",
      "Validation 2021:\n",
      "✅ Preprocessing Assessment — RMSE: 25.2765\n"
     ]
    },
    {
     "data": {
      "text/html": [
       "<style>#sk-container-id-8 {color: black;background-color: white;}#sk-container-id-8 pre{padding: 0;}#sk-container-id-8 div.sk-toggleable {background-color: white;}#sk-container-id-8 label.sk-toggleable__label {cursor: pointer;display: block;width: 100%;margin-bottom: 0;padding: 0.3em;box-sizing: border-box;text-align: center;}#sk-container-id-8 label.sk-toggleable__label-arrow:before {content: \"▸\";float: left;margin-right: 0.25em;color: #696969;}#sk-container-id-8 label.sk-toggleable__label-arrow:hover:before {color: black;}#sk-container-id-8 div.sk-estimator:hover label.sk-toggleable__label-arrow:before {color: black;}#sk-container-id-8 div.sk-toggleable__content {max-height: 0;max-width: 0;overflow: hidden;text-align: left;background-color: #f0f8ff;}#sk-container-id-8 div.sk-toggleable__content pre {margin: 0.2em;color: black;border-radius: 0.25em;background-color: #f0f8ff;}#sk-container-id-8 input.sk-toggleable__control:checked~div.sk-toggleable__content {max-height: 200px;max-width: 100%;overflow: auto;}#sk-container-id-8 input.sk-toggleable__control:checked~label.sk-toggleable__label-arrow:before {content: \"▾\";}#sk-container-id-8 div.sk-estimator input.sk-toggleable__control:checked~label.sk-toggleable__label {background-color: #d4ebff;}#sk-container-id-8 div.sk-label input.sk-toggleable__control:checked~label.sk-toggleable__label {background-color: #d4ebff;}#sk-container-id-8 input.sk-hidden--visually {border: 0;clip: rect(1px 1px 1px 1px);clip: rect(1px, 1px, 1px, 1px);height: 1px;margin: -1px;overflow: hidden;padding: 0;position: absolute;width: 1px;}#sk-container-id-8 div.sk-estimator {font-family: monospace;background-color: #f0f8ff;border: 1px dotted black;border-radius: 0.25em;box-sizing: border-box;margin-bottom: 0.5em;}#sk-container-id-8 div.sk-estimator:hover {background-color: #d4ebff;}#sk-container-id-8 div.sk-parallel-item::after {content: \"\";width: 100%;border-bottom: 1px solid gray;flex-grow: 1;}#sk-container-id-8 div.sk-label:hover label.sk-toggleable__label {background-color: #d4ebff;}#sk-container-id-8 div.sk-serial::before {content: \"\";position: absolute;border-left: 1px solid gray;box-sizing: border-box;top: 0;bottom: 0;left: 50%;z-index: 0;}#sk-container-id-8 div.sk-serial {display: flex;flex-direction: column;align-items: center;background-color: white;padding-right: 0.2em;padding-left: 0.2em;position: relative;}#sk-container-id-8 div.sk-item {position: relative;z-index: 1;}#sk-container-id-8 div.sk-parallel {display: flex;align-items: stretch;justify-content: center;background-color: white;position: relative;}#sk-container-id-8 div.sk-item::before, #sk-container-id-8 div.sk-parallel-item::before {content: \"\";position: absolute;border-left: 1px solid gray;box-sizing: border-box;top: 0;bottom: 0;left: 50%;z-index: -1;}#sk-container-id-8 div.sk-parallel-item {display: flex;flex-direction: column;z-index: 1;position: relative;background-color: white;}#sk-container-id-8 div.sk-parallel-item:first-child::after {align-self: flex-end;width: 50%;}#sk-container-id-8 div.sk-parallel-item:last-child::after {align-self: flex-start;width: 50%;}#sk-container-id-8 div.sk-parallel-item:only-child::after {width: 0;}#sk-container-id-8 div.sk-dashed-wrapped {border: 1px dashed gray;margin: 0 0.4em 0.5em 0.4em;box-sizing: border-box;padding-bottom: 0.4em;background-color: white;}#sk-container-id-8 div.sk-label label {font-family: monospace;font-weight: bold;display: inline-block;line-height: 1.2em;}#sk-container-id-8 div.sk-label-container {text-align: center;}#sk-container-id-8 div.sk-container {/* jupyter's `normalize.less` sets `[hidden] { display: none; }` but bootstrap.min.css set `[hidden] { display: none !important; }` so we also need the `!important` here to be able to override the default hidden behavior on the sphinx rendered scikit-learn.org. See: https://github.com/scikit-learn/scikit-learn/issues/21755 */display: inline-block !important;position: relative;}#sk-container-id-8 div.sk-text-repr-fallback {display: none;}</style><div id=\"sk-container-id-8\" class=\"sk-top-container\"><div class=\"sk-text-repr-fallback\"><pre>LGBMRegressor(colsample_bytree=0.8, learning_rate=0.05, max_depth=6,\n",
       "              metric=&#x27;rmse&#x27;, n_estimators=150, objective=&#x27;regression&#x27;,\n",
       "              random_state=42, reg_alpha=0.1, reg_lambda=0.1, subsample=0.8,\n",
       "              verbosity=-1)</pre><b>In a Jupyter environment, please rerun this cell to show the HTML representation or trust the notebook. <br />On GitHub, the HTML representation is unable to render, please try loading this page with nbviewer.org.</b></div><div class=\"sk-container\" hidden><div class=\"sk-item\"><div class=\"sk-estimator sk-toggleable\"><input class=\"sk-toggleable__control sk-hidden--visually\" id=\"sk-estimator-id-8\" type=\"checkbox\" checked><label for=\"sk-estimator-id-8\" class=\"sk-toggleable__label sk-toggleable__label-arrow\">LGBMRegressor</label><div class=\"sk-toggleable__content\"><pre>LGBMRegressor(colsample_bytree=0.8, learning_rate=0.05, max_depth=6,\n",
       "              metric=&#x27;rmse&#x27;, n_estimators=150, objective=&#x27;regression&#x27;,\n",
       "              random_state=42, reg_alpha=0.1, reg_lambda=0.1, subsample=0.8,\n",
       "              verbosity=-1)</pre></div></div></div></div></div>"
      ],
      "text/plain": [
       "LGBMRegressor(colsample_bytree=0.8, learning_rate=0.05, max_depth=6,\n",
       "              metric='rmse', n_estimators=150, objective='regression',\n",
       "              random_state=42, reg_alpha=0.1, reg_lambda=0.1, subsample=0.8,\n",
       "              verbosity=-1)"
      ]
     },
     "execution_count": 47,
     "metadata": {},
     "output_type": "execute_result"
    }
   ],
   "source": [
    "# Assess with Model:\n",
    "print(\"Validation 2020:\")\n",
    "df_train, df_test = temporal_aware_train_test_split(df=df,\n",
    "                                                    year_predict=2020)\n",
    "X_train, X_test, y_train, y_test = trimmed_add_city_historical_mean_feature(df_train=df_train,\n",
    "                                                                            df_test=df_test,\n",
    "                                                                            year_predict=2020)\n",
    "\n",
    "assessment_model(X_train=X_train,\n",
    "                 X_test=X_test,\n",
    "                 y_train=y_train,\n",
    "                 y_test=y_test)\n",
    "\n",
    "print(\"Validation 2021:\")\n",
    "df_train, df_test = temporal_aware_train_test_split(df=df,\n",
    "                                                    year_predict=2021)\n",
    "X_train, X_test, y_train, y_test = trimmed_add_city_historical_mean_feature(df_train=df_train,\n",
    "                                                                            df_test=df_test,\n",
    "                                                                            year_predict=2021)\n",
    "assessment_model(X_train=X_train,\n",
    "                 X_test=X_test,\n",
    "                 y_train=y_train,\n",
    "                 y_test=y_test)"
   ]
  },
  {
   "cell_type": "code",
   "execution_count": 48,
   "id": "357233d1-a05a-4c1b-85d6-14678e114bd0",
   "metadata": {},
   "outputs": [
    {
     "name": "stdout",
     "output_type": "stream",
     "text": [
      "Validation 2020:\n",
      "✅ Preprocessing Assessment — RMSE: 29.4524\n",
      "Validation 2021:\n",
      "✅ Preprocessing Assessment — RMSE: 24.8427\n"
     ]
    },
    {
     "data": {
      "text/html": [
       "<style>#sk-container-id-9 {color: black;background-color: white;}#sk-container-id-9 pre{padding: 0;}#sk-container-id-9 div.sk-toggleable {background-color: white;}#sk-container-id-9 label.sk-toggleable__label {cursor: pointer;display: block;width: 100%;margin-bottom: 0;padding: 0.3em;box-sizing: border-box;text-align: center;}#sk-container-id-9 label.sk-toggleable__label-arrow:before {content: \"▸\";float: left;margin-right: 0.25em;color: #696969;}#sk-container-id-9 label.sk-toggleable__label-arrow:hover:before {color: black;}#sk-container-id-9 div.sk-estimator:hover label.sk-toggleable__label-arrow:before {color: black;}#sk-container-id-9 div.sk-toggleable__content {max-height: 0;max-width: 0;overflow: hidden;text-align: left;background-color: #f0f8ff;}#sk-container-id-9 div.sk-toggleable__content pre {margin: 0.2em;color: black;border-radius: 0.25em;background-color: #f0f8ff;}#sk-container-id-9 input.sk-toggleable__control:checked~div.sk-toggleable__content {max-height: 200px;max-width: 100%;overflow: auto;}#sk-container-id-9 input.sk-toggleable__control:checked~label.sk-toggleable__label-arrow:before {content: \"▾\";}#sk-container-id-9 div.sk-estimator input.sk-toggleable__control:checked~label.sk-toggleable__label {background-color: #d4ebff;}#sk-container-id-9 div.sk-label input.sk-toggleable__control:checked~label.sk-toggleable__label {background-color: #d4ebff;}#sk-container-id-9 input.sk-hidden--visually {border: 0;clip: rect(1px 1px 1px 1px);clip: rect(1px, 1px, 1px, 1px);height: 1px;margin: -1px;overflow: hidden;padding: 0;position: absolute;width: 1px;}#sk-container-id-9 div.sk-estimator {font-family: monospace;background-color: #f0f8ff;border: 1px dotted black;border-radius: 0.25em;box-sizing: border-box;margin-bottom: 0.5em;}#sk-container-id-9 div.sk-estimator:hover {background-color: #d4ebff;}#sk-container-id-9 div.sk-parallel-item::after {content: \"\";width: 100%;border-bottom: 1px solid gray;flex-grow: 1;}#sk-container-id-9 div.sk-label:hover label.sk-toggleable__label {background-color: #d4ebff;}#sk-container-id-9 div.sk-serial::before {content: \"\";position: absolute;border-left: 1px solid gray;box-sizing: border-box;top: 0;bottom: 0;left: 50%;z-index: 0;}#sk-container-id-9 div.sk-serial {display: flex;flex-direction: column;align-items: center;background-color: white;padding-right: 0.2em;padding-left: 0.2em;position: relative;}#sk-container-id-9 div.sk-item {position: relative;z-index: 1;}#sk-container-id-9 div.sk-parallel {display: flex;align-items: stretch;justify-content: center;background-color: white;position: relative;}#sk-container-id-9 div.sk-item::before, #sk-container-id-9 div.sk-parallel-item::before {content: \"\";position: absolute;border-left: 1px solid gray;box-sizing: border-box;top: 0;bottom: 0;left: 50%;z-index: -1;}#sk-container-id-9 div.sk-parallel-item {display: flex;flex-direction: column;z-index: 1;position: relative;background-color: white;}#sk-container-id-9 div.sk-parallel-item:first-child::after {align-self: flex-end;width: 50%;}#sk-container-id-9 div.sk-parallel-item:last-child::after {align-self: flex-start;width: 50%;}#sk-container-id-9 div.sk-parallel-item:only-child::after {width: 0;}#sk-container-id-9 div.sk-dashed-wrapped {border: 1px dashed gray;margin: 0 0.4em 0.5em 0.4em;box-sizing: border-box;padding-bottom: 0.4em;background-color: white;}#sk-container-id-9 div.sk-label label {font-family: monospace;font-weight: bold;display: inline-block;line-height: 1.2em;}#sk-container-id-9 div.sk-label-container {text-align: center;}#sk-container-id-9 div.sk-container {/* jupyter's `normalize.less` sets `[hidden] { display: none; }` but bootstrap.min.css set `[hidden] { display: none !important; }` so we also need the `!important` here to be able to override the default hidden behavior on the sphinx rendered scikit-learn.org. See: https://github.com/scikit-learn/scikit-learn/issues/21755 */display: inline-block !important;position: relative;}#sk-container-id-9 div.sk-text-repr-fallback {display: none;}</style><div id=\"sk-container-id-9\" class=\"sk-top-container\"><div class=\"sk-text-repr-fallback\"><pre>LGBMRegressor(colsample_bytree=0.8, learning_rate=0.05, max_depth=6,\n",
       "              metric=&#x27;rmse&#x27;, n_estimators=150, objective=&#x27;regression&#x27;,\n",
       "              random_state=42, reg_alpha=0.1, reg_lambda=0.1, subsample=0.8,\n",
       "              verbosity=-1)</pre><b>In a Jupyter environment, please rerun this cell to show the HTML representation or trust the notebook. <br />On GitHub, the HTML representation is unable to render, please try loading this page with nbviewer.org.</b></div><div class=\"sk-container\" hidden><div class=\"sk-item\"><div class=\"sk-estimator sk-toggleable\"><input class=\"sk-toggleable__control sk-hidden--visually\" id=\"sk-estimator-id-9\" type=\"checkbox\" checked><label for=\"sk-estimator-id-9\" class=\"sk-toggleable__label sk-toggleable__label-arrow\">LGBMRegressor</label><div class=\"sk-toggleable__content\"><pre>LGBMRegressor(colsample_bytree=0.8, learning_rate=0.05, max_depth=6,\n",
       "              metric=&#x27;rmse&#x27;, n_estimators=150, objective=&#x27;regression&#x27;,\n",
       "              random_state=42, reg_alpha=0.1, reg_lambda=0.1, subsample=0.8,\n",
       "              verbosity=-1)</pre></div></div></div></div></div>"
      ],
      "text/plain": [
       "LGBMRegressor(colsample_bytree=0.8, learning_rate=0.05, max_depth=6,\n",
       "              metric='rmse', n_estimators=150, objective='regression',\n",
       "              random_state=42, reg_alpha=0.1, reg_lambda=0.1, subsample=0.8,\n",
       "              verbosity=-1)"
      ]
     },
     "execution_count": 48,
     "metadata": {},
     "output_type": "execute_result"
    }
   ],
   "source": [
    "# Assess with Model:\n",
    "print(\"Validation 2020:\")\n",
    "df_train, df_test = temporal_aware_train_test_split(df=df,\n",
    "                                                    year_predict=2020)\n",
    "X_train, X_test, y_train, y_test = trimmed_add_city_historical_mean_feature(df_train=df_train,\n",
    "                                                                            df_test=df_test,\n",
    "                                                                            year_predict=2020)\n",
    "X_train, X_test, y_train, y_test = add_city_historical_mean_feature(df_train=df_train,\n",
    "                                                                    df_test=df_test,\n",
    "                                                                    year_predict=2020)\n",
    "\n",
    "assessment_model(X_train=X_train,\n",
    "                 X_test=X_test,\n",
    "                 y_train=y_train,\n",
    "                 y_test=y_test)\n",
    "\n",
    "print(\"Validation 2021:\")\n",
    "df_train, df_test = temporal_aware_train_test_split(df=df,\n",
    "                                                    year_predict=2021)\n",
    "X_train, X_test, y_train, y_test = trimmed_add_city_historical_mean_feature(df_train=df_train,\n",
    "                                                                            df_test=df_test,\n",
    "                                                                            year_predict=2021)\n",
    "X_train, X_test, y_train, y_test = add_city_historical_mean_feature(df_train=df_train,\n",
    "                                                                    df_test=df_test,\n",
    "                                                                    year_predict=2021)\n",
    "assessment_model(X_train=X_train,\n",
    "                 X_test=X_test,\n",
    "                 y_train=y_train,\n",
    "                 y_test=y_test)"
   ]
  },
  {
   "cell_type": "markdown",
   "id": "28c8ffcf-6116-4bfd-b59a-fb91c8f3061e",
   "metadata": {
    "tags": []
   },
   "source": [
    "# 1.3. ⚖️ SMOTER for Rebalancing Continuous Targets\n",
    "What is SMOTER?\n",
    "SMOTER (Synthetic Minority Over-sampling Technique for Regression) is an adaptation of the popular SMOTE algorithm, but designed for regression tasks instead of classification.\n",
    "\n",
    "Bad performance and usually does not help Tree based models. So it was discarted"
   ]
  },
  {
   "cell_type": "code",
   "execution_count": 49,
   "id": "4235c3fc-e529-447c-837f-1c1f2023a609",
   "metadata": {
    "jupyter": {
     "source_hidden": true
    },
    "tags": []
   },
   "outputs": [],
   "source": [
    "def apply_smoter(X_train, X_test, y_train, y_test, year_predict):\n",
    "    \n",
    "    # Instance SMOTER\n",
    "    cl = np.percentile(y_train, 10)\n",
    "    ch = np.percentile(y_train, 90) \n",
    "\n",
    "    relevance = resreg.sigmoid_relevance(y_train, cl=cl, ch=ch)\n",
    "    X_res, y_res = resreg.smoter(X_train, y_train, relevance=relevance, relevance_threshold=0.6, k=10, over='balance', random_state=42)\n",
    "    \n",
    "    return X_res, X_test, y_res, y_test"
   ]
  },
  {
   "cell_type": "code",
   "execution_count": 50,
   "id": "c318a0ff-4888-4022-acc9-60a5b1370149",
   "metadata": {
    "collapsed": true,
    "jupyter": {
     "outputs_hidden": true,
     "source_hidden": true
    },
    "tags": []
   },
   "outputs": [
    {
     "name": "stdout",
     "output_type": "stream",
     "text": [
      "Validation 2020:\n",
      "✅ Preprocessing Assessment — RMSE: 34.7180\n",
      "Validation 2021:\n",
      "✅ Preprocessing Assessment — RMSE: 22.3925\n"
     ]
    },
    {
     "data": {
      "text/html": [
       "<style>#sk-container-id-10 {color: black;background-color: white;}#sk-container-id-10 pre{padding: 0;}#sk-container-id-10 div.sk-toggleable {background-color: white;}#sk-container-id-10 label.sk-toggleable__label {cursor: pointer;display: block;width: 100%;margin-bottom: 0;padding: 0.3em;box-sizing: border-box;text-align: center;}#sk-container-id-10 label.sk-toggleable__label-arrow:before {content: \"▸\";float: left;margin-right: 0.25em;color: #696969;}#sk-container-id-10 label.sk-toggleable__label-arrow:hover:before {color: black;}#sk-container-id-10 div.sk-estimator:hover label.sk-toggleable__label-arrow:before {color: black;}#sk-container-id-10 div.sk-toggleable__content {max-height: 0;max-width: 0;overflow: hidden;text-align: left;background-color: #f0f8ff;}#sk-container-id-10 div.sk-toggleable__content pre {margin: 0.2em;color: black;border-radius: 0.25em;background-color: #f0f8ff;}#sk-container-id-10 input.sk-toggleable__control:checked~div.sk-toggleable__content {max-height: 200px;max-width: 100%;overflow: auto;}#sk-container-id-10 input.sk-toggleable__control:checked~label.sk-toggleable__label-arrow:before {content: \"▾\";}#sk-container-id-10 div.sk-estimator input.sk-toggleable__control:checked~label.sk-toggleable__label {background-color: #d4ebff;}#sk-container-id-10 div.sk-label input.sk-toggleable__control:checked~label.sk-toggleable__label {background-color: #d4ebff;}#sk-container-id-10 input.sk-hidden--visually {border: 0;clip: rect(1px 1px 1px 1px);clip: rect(1px, 1px, 1px, 1px);height: 1px;margin: -1px;overflow: hidden;padding: 0;position: absolute;width: 1px;}#sk-container-id-10 div.sk-estimator {font-family: monospace;background-color: #f0f8ff;border: 1px dotted black;border-radius: 0.25em;box-sizing: border-box;margin-bottom: 0.5em;}#sk-container-id-10 div.sk-estimator:hover {background-color: #d4ebff;}#sk-container-id-10 div.sk-parallel-item::after {content: \"\";width: 100%;border-bottom: 1px solid gray;flex-grow: 1;}#sk-container-id-10 div.sk-label:hover label.sk-toggleable__label {background-color: #d4ebff;}#sk-container-id-10 div.sk-serial::before {content: \"\";position: absolute;border-left: 1px solid gray;box-sizing: border-box;top: 0;bottom: 0;left: 50%;z-index: 0;}#sk-container-id-10 div.sk-serial {display: flex;flex-direction: column;align-items: center;background-color: white;padding-right: 0.2em;padding-left: 0.2em;position: relative;}#sk-container-id-10 div.sk-item {position: relative;z-index: 1;}#sk-container-id-10 div.sk-parallel {display: flex;align-items: stretch;justify-content: center;background-color: white;position: relative;}#sk-container-id-10 div.sk-item::before, #sk-container-id-10 div.sk-parallel-item::before {content: \"\";position: absolute;border-left: 1px solid gray;box-sizing: border-box;top: 0;bottom: 0;left: 50%;z-index: -1;}#sk-container-id-10 div.sk-parallel-item {display: flex;flex-direction: column;z-index: 1;position: relative;background-color: white;}#sk-container-id-10 div.sk-parallel-item:first-child::after {align-self: flex-end;width: 50%;}#sk-container-id-10 div.sk-parallel-item:last-child::after {align-self: flex-start;width: 50%;}#sk-container-id-10 div.sk-parallel-item:only-child::after {width: 0;}#sk-container-id-10 div.sk-dashed-wrapped {border: 1px dashed gray;margin: 0 0.4em 0.5em 0.4em;box-sizing: border-box;padding-bottom: 0.4em;background-color: white;}#sk-container-id-10 div.sk-label label {font-family: monospace;font-weight: bold;display: inline-block;line-height: 1.2em;}#sk-container-id-10 div.sk-label-container {text-align: center;}#sk-container-id-10 div.sk-container {/* jupyter's `normalize.less` sets `[hidden] { display: none; }` but bootstrap.min.css set `[hidden] { display: none !important; }` so we also need the `!important` here to be able to override the default hidden behavior on the sphinx rendered scikit-learn.org. See: https://github.com/scikit-learn/scikit-learn/issues/21755 */display: inline-block !important;position: relative;}#sk-container-id-10 div.sk-text-repr-fallback {display: none;}</style><div id=\"sk-container-id-10\" class=\"sk-top-container\"><div class=\"sk-text-repr-fallback\"><pre>LGBMRegressor(colsample_bytree=0.8, learning_rate=0.05, max_depth=6,\n",
       "              metric=&#x27;rmse&#x27;, n_estimators=150, objective=&#x27;regression&#x27;,\n",
       "              random_state=42, reg_alpha=0.1, reg_lambda=0.1, subsample=0.8,\n",
       "              verbosity=-1)</pre><b>In a Jupyter environment, please rerun this cell to show the HTML representation or trust the notebook. <br />On GitHub, the HTML representation is unable to render, please try loading this page with nbviewer.org.</b></div><div class=\"sk-container\" hidden><div class=\"sk-item\"><div class=\"sk-estimator sk-toggleable\"><input class=\"sk-toggleable__control sk-hidden--visually\" id=\"sk-estimator-id-10\" type=\"checkbox\" checked><label for=\"sk-estimator-id-10\" class=\"sk-toggleable__label sk-toggleable__label-arrow\">LGBMRegressor</label><div class=\"sk-toggleable__content\"><pre>LGBMRegressor(colsample_bytree=0.8, learning_rate=0.05, max_depth=6,\n",
       "              metric=&#x27;rmse&#x27;, n_estimators=150, objective=&#x27;regression&#x27;,\n",
       "              random_state=42, reg_alpha=0.1, reg_lambda=0.1, subsample=0.8,\n",
       "              verbosity=-1)</pre></div></div></div></div></div>"
      ],
      "text/plain": [
       "LGBMRegressor(colsample_bytree=0.8, learning_rate=0.05, max_depth=6,\n",
       "              metric='rmse', n_estimators=150, objective='regression',\n",
       "              random_state=42, reg_alpha=0.1, reg_lambda=0.1, subsample=0.8,\n",
       "              verbosity=-1)"
      ]
     },
     "execution_count": 50,
     "metadata": {},
     "output_type": "execute_result"
    }
   ],
   "source": [
    "print(\"Validation 2020:\")\n",
    "df_train, df_test = temporal_aware_train_test_split(df=df,\n",
    "                                                    year_predict=2020)\n",
    "X_train, X_test, y_train, y_test = trimmed_add_city_historical_mean_feature(df_train=df_train,\n",
    "                                                                    df_test=df_test,\n",
    "                                                                    year_predict=2020)\n",
    "X_train, X_test, y_train, y_test = apply_smoter(X_train=X_train,\n",
    "                                                X_test=X_test,\n",
    "                                                y_train=y_train,\n",
    "                                                y_test=y_test,\n",
    "                                                year_predict=2020)\n",
    "assessment_model(X_train=X_train,\n",
    "                 X_test=X_test,\n",
    "                 y_train=y_train,\n",
    "                 y_test=y_test)\n",
    "\n",
    "print(\"Validation 2021:\")\n",
    "df_train, df_test = temporal_aware_train_test_split(df=df,\n",
    "                                                    year_predict=2021)\n",
    "X_train, X_test, y_train, y_test = trimmed_add_city_historical_mean_feature(df_train=df_train,\n",
    "                                                                    df_test=df_test,\n",
    "                                                                    year_predict=2021)\n",
    "X_train, X_test, y_train, y_test = apply_smoter(X_train=X_train,\n",
    "                                                X_test=X_test,\n",
    "                                                y_train=y_train,\n",
    "                                                y_test=y_test,\n",
    "                                                year_predict=2021)\n",
    "assessment_model(X_train=X_train,\n",
    "                 X_test=X_test,\n",
    "                 y_train=y_train,\n",
    "                 y_test=y_test)"
   ]
  },
  {
   "cell_type": "markdown",
   "id": "a9de2a17-df02-4604-b92d-1fbc0e60e5ed",
   "metadata": {},
   "source": [
    "# 1.4. Reduce features that might be causing problems\n",
    "- NDVI data is often affected by poor weather conditions, which can lead to unrealistic or noisy values."
   ]
  },
  {
   "cell_type": "code",
   "execution_count": 51,
   "id": "6d539fa4-2390-413b-9160-6628bed2635c",
   "metadata": {},
   "outputs": [],
   "source": [
    "def train_pipeline(df):\n",
    "    # Assess with Model:\n",
    "    print(\"Validation 2020:\")\n",
    "    df_train, df_test = temporal_aware_train_test_split(df=df,\n",
    "                                                        year_predict=2020)\n",
    "    X_train, X_test, y_train, y_test = trimmed_add_city_historical_mean_feature(df_train=df_train,\n",
    "                                                                        df_test=df_test,\n",
    "                                                                        year_predict=2020)\n",
    "\n",
    "    model_1 = assessment_model(X_train=X_train,\n",
    "                               X_test=X_test,\n",
    "                               y_train=y_train,\n",
    "                               y_test=y_test)\n",
    "\n",
    "    print(\"Validation 2021:\")\n",
    "    df_train, df_test = temporal_aware_train_test_split(df=df,\n",
    "                                                        year_predict=2021)\n",
    "    X_train, X_test, y_train, y_test = trimmed_add_city_historical_mean_feature(df_train=df_train,\n",
    "                                                                        df_test=df_test,\n",
    "                                                                        year_predict=2021)\n",
    "    model_2 = assessment_model(X_train=X_train,\n",
    "                               X_test=X_test,\n",
    "                               y_train=y_train,\n",
    "                               y_test=y_test)\n",
    "    \n",
    "    return model_1, model_2"
   ]
  },
  {
   "cell_type": "code",
   "execution_count": 52,
   "id": "6dd027e0-556f-40cd-87e2-bdfb07618761",
   "metadata": {
    "collapsed": true,
    "jupyter": {
     "outputs_hidden": true
    },
    "tags": []
   },
   "outputs": [
    {
     "data": {
      "text/plain": [
       "Index(['市町村名', 'year', 'Productivity', '作付面積', 'ET0_sum_veg', 'ET0_sum_rep',\n",
       "       'PTI_sum_veg', 'PTI_sum_rep', 'PTU_sum_veg', 'PTU_sum_rep',\n",
       "       'SWD_sum_veg', 'SWD_mean_veg', 'SWD_sum_rep', 'SWD_mean_rep',\n",
       "       'VPD_sum_veg', 'VPD_sum_rep', 'GDD_sum_veg', 'GDD_sum_rep',\n",
       "       'stress_combo_days_veg', 'stress_combo_days_rep',\n",
       "       'ideal_combo_days_veg', 'ideal_combo_days_rep', 'ALLSKY_days_ideal_veg',\n",
       "       'ALLSKY_days_low_veg', 'ALLSKY_days_extremely_low_veg',\n",
       "       'ALLSKY_days_high_veg', 'ALLSKY_days_ideal_rep', 'ALLSKY_days_low_rep',\n",
       "       'ALLSKY_days_extremely_low_rep', 'ALLSKY_days_high_rep', 'ALLSKY_5',\n",
       "       'ALLSKY_6', 'ALLSKY_7', 'ALLSKY_8', 'RH2M_days_ideal_veg',\n",
       "       'RH2M_days_high_veg', 'RH2M_days_very_high_veg', 'RH2M_days_ideal_rep',\n",
       "       'RH2M_days_high_rep', 'RH2M_days_very_high_rep',\n",
       "       'T2M_days_ideal_vegetative', 'T2M_days_low_vegetative',\n",
       "       'T2M_days_extremely_low_vegetative', 'T2M_days_ideal_reproductive',\n",
       "       'T2M_days_low_reproductive', 'T2M_days_extremely_low_reproductive',\n",
       "       'T2M_5', 'T2M_6', 'T2M_7', 'T2M_8', '緯度', '経度', 'NDVI_li_5',\n",
       "       'NDVI_li_6', 'NDVI_li_7', 'NDVI_li_8', 'NDVI_active_count', 'NDVI_AUC',\n",
       "       'NDVI_mean', 'NDVI_max', 'NDVI_std', 'NDVI_range', 'NDVI_min',\n",
       "       'NDVI_median', 'NDVI_time_to_max', 'ALLSKY_NDVI_5', 'ALLSKY_NDVI_6',\n",
       "       'ALLSKY_NDVI_7', 'ALLSKY_NDVI_8'],\n",
       "      dtype='object')"
      ]
     },
     "execution_count": 52,
     "metadata": {},
     "output_type": "execute_result"
    }
   ],
   "source": [
    "df.columns"
   ]
  },
  {
   "cell_type": "code",
   "execution_count": 53,
   "id": "ad63159f-b25c-47cb-92b0-6cd4332b175f",
   "metadata": {
    "collapsed": true,
    "jupyter": {
     "outputs_hidden": true,
     "source_hidden": true
    },
    "tags": []
   },
   "outputs": [
    {
     "name": "stdout",
     "output_type": "stream",
     "text": [
      "Validation 2020:\n",
      "✅ Preprocessing Assessment — RMSE: 28.4037\n",
      "Validation 2021:\n",
      "✅ Preprocessing Assessment — RMSE: 24.5383\n"
     ]
    },
    {
     "data": {
      "text/plain": [
       "(LGBMRegressor(colsample_bytree=0.8, learning_rate=0.05, max_depth=6,\n",
       "               metric='rmse', n_estimators=150, objective='regression',\n",
       "               random_state=42, reg_alpha=0.1, reg_lambda=0.1, subsample=0.8,\n",
       "               verbosity=-1),\n",
       " LGBMRegressor(colsample_bytree=0.8, learning_rate=0.05, max_depth=6,\n",
       "               metric='rmse', n_estimators=150, objective='regression',\n",
       "               random_state=42, reg_alpha=0.1, reg_lambda=0.1, subsample=0.8,\n",
       "               verbosity=-1))"
      ]
     },
     "execution_count": 53,
     "metadata": {},
     "output_type": "execute_result"
    }
   ],
   "source": [
    "df_copy = df.copy()\n",
    "df_copy = df_copy.drop(columns=['NDVI_li_5', 'NDVI_li_6', 'NDVI_li_7', 'NDVI_li_8'])\n",
    "train_pipeline(df_copy)"
   ]
  },
  {
   "cell_type": "code",
   "execution_count": 54,
   "id": "9239b7df-423a-4789-844a-0061b4d9e35b",
   "metadata": {
    "collapsed": true,
    "jupyter": {
     "outputs_hidden": true,
     "source_hidden": true
    },
    "tags": []
   },
   "outputs": [
    {
     "name": "stdout",
     "output_type": "stream",
     "text": [
      "Validation 2020:\n",
      "✅ Preprocessing Assessment — RMSE: 29.3302\n",
      "Validation 2021:\n",
      "✅ Preprocessing Assessment — RMSE: 24.4543\n"
     ]
    },
    {
     "data": {
      "text/plain": [
       "(LGBMRegressor(colsample_bytree=0.8, learning_rate=0.05, max_depth=6,\n",
       "               metric='rmse', n_estimators=150, objective='regression',\n",
       "               random_state=42, reg_alpha=0.1, reg_lambda=0.1, subsample=0.8,\n",
       "               verbosity=-1),\n",
       " LGBMRegressor(colsample_bytree=0.8, learning_rate=0.05, max_depth=6,\n",
       "               metric='rmse', n_estimators=150, objective='regression',\n",
       "               random_state=42, reg_alpha=0.1, reg_lambda=0.1, subsample=0.8,\n",
       "               verbosity=-1))"
      ]
     },
     "execution_count": 54,
     "metadata": {},
     "output_type": "execute_result"
    }
   ],
   "source": [
    "df_copy = df.copy()\n",
    "df_copy = df_copy.drop(columns=['NDVI_active_count'])\n",
    "train_pipeline(df_copy)"
   ]
  },
  {
   "cell_type": "code",
   "execution_count": 55,
   "id": "00c76232-68ee-42c0-a89d-ec409f6b72f0",
   "metadata": {
    "collapsed": true,
    "jupyter": {
     "outputs_hidden": true,
     "source_hidden": true
    },
    "tags": []
   },
   "outputs": [
    {
     "name": "stdout",
     "output_type": "stream",
     "text": [
      "Validation 2020:\n",
      "✅ Preprocessing Assessment — RMSE: 29.6139\n",
      "Validation 2021:\n",
      "✅ Preprocessing Assessment — RMSE: 24.4543\n"
     ]
    },
    {
     "data": {
      "text/plain": [
       "(LGBMRegressor(colsample_bytree=0.8, learning_rate=0.05, max_depth=6,\n",
       "               metric='rmse', n_estimators=150, objective='regression',\n",
       "               random_state=42, reg_alpha=0.1, reg_lambda=0.1, subsample=0.8,\n",
       "               verbosity=-1),\n",
       " LGBMRegressor(colsample_bytree=0.8, learning_rate=0.05, max_depth=6,\n",
       "               metric='rmse', n_estimators=150, objective='regression',\n",
       "               random_state=42, reg_alpha=0.1, reg_lambda=0.1, subsample=0.8,\n",
       "               verbosity=-1))"
      ]
     },
     "execution_count": 55,
     "metadata": {},
     "output_type": "execute_result"
    }
   ],
   "source": [
    "df_copy = df.copy()\n",
    "df_copy = df_copy.drop(columns=['NDVI_AUC'])\n",
    "train_pipeline(df_copy)"
   ]
  },
  {
   "cell_type": "code",
   "execution_count": 56,
   "id": "e0f6940f-09b9-4839-8f2c-434649ea9697",
   "metadata": {
    "collapsed": true,
    "jupyter": {
     "outputs_hidden": true,
     "source_hidden": true
    },
    "tags": []
   },
   "outputs": [
    {
     "name": "stdout",
     "output_type": "stream",
     "text": [
      "Validation 2020:\n",
      "✅ Preprocessing Assessment — RMSE: 29.6139\n",
      "Validation 2021:\n",
      "✅ Preprocessing Assessment — RMSE: 24.4543\n"
     ]
    },
    {
     "data": {
      "text/plain": [
       "(LGBMRegressor(colsample_bytree=0.8, learning_rate=0.05, max_depth=6,\n",
       "               metric='rmse', n_estimators=150, objective='regression',\n",
       "               random_state=42, reg_alpha=0.1, reg_lambda=0.1, subsample=0.8,\n",
       "               verbosity=-1),\n",
       " LGBMRegressor(colsample_bytree=0.8, learning_rate=0.05, max_depth=6,\n",
       "               metric='rmse', n_estimators=150, objective='regression',\n",
       "               random_state=42, reg_alpha=0.1, reg_lambda=0.1, subsample=0.8,\n",
       "               verbosity=-1))"
      ]
     },
     "execution_count": 56,
     "metadata": {},
     "output_type": "execute_result"
    }
   ],
   "source": [
    "df_copy = df.copy()\n",
    "df_copy = df_copy.drop(columns=['NDVI_mean'])\n",
    "train_pipeline(df_copy)"
   ]
  },
  {
   "cell_type": "code",
   "execution_count": 57,
   "id": "f105793b-3286-48a3-98d2-3d9e2d66d35e",
   "metadata": {
    "collapsed": true,
    "jupyter": {
     "outputs_hidden": true,
     "source_hidden": true
    },
    "tags": []
   },
   "outputs": [
    {
     "name": "stdout",
     "output_type": "stream",
     "text": [
      "Validation 2020:\n",
      "✅ Preprocessing Assessment — RMSE: 29.4282\n",
      "Validation 2021:\n",
      "✅ Preprocessing Assessment — RMSE: 24.5553\n"
     ]
    },
    {
     "data": {
      "text/plain": [
       "(LGBMRegressor(colsample_bytree=0.8, learning_rate=0.05, max_depth=6,\n",
       "               metric='rmse', n_estimators=150, objective='regression',\n",
       "               random_state=42, reg_alpha=0.1, reg_lambda=0.1, subsample=0.8,\n",
       "               verbosity=-1),\n",
       " LGBMRegressor(colsample_bytree=0.8, learning_rate=0.05, max_depth=6,\n",
       "               metric='rmse', n_estimators=150, objective='regression',\n",
       "               random_state=42, reg_alpha=0.1, reg_lambda=0.1, subsample=0.8,\n",
       "               verbosity=-1))"
      ]
     },
     "execution_count": 57,
     "metadata": {},
     "output_type": "execute_result"
    }
   ],
   "source": [
    "df_copy = df.copy()\n",
    "df_copy = df_copy.drop(columns=['NDVI_max'])\n",
    "train_pipeline(df_copy)"
   ]
  },
  {
   "cell_type": "code",
   "execution_count": 58,
   "id": "51971716-c571-4c06-a356-6e9b80e4693c",
   "metadata": {
    "collapsed": true,
    "jupyter": {
     "outputs_hidden": true,
     "source_hidden": true
    },
    "tags": []
   },
   "outputs": [
    {
     "name": "stdout",
     "output_type": "stream",
     "text": [
      "Validation 2020:\n",
      "✅ Preprocessing Assessment — RMSE: 30.2300\n",
      "Validation 2021:\n",
      "✅ Preprocessing Assessment — RMSE: 24.3934\n"
     ]
    },
    {
     "data": {
      "text/plain": [
       "(LGBMRegressor(colsample_bytree=0.8, learning_rate=0.05, max_depth=6,\n",
       "               metric='rmse', n_estimators=150, objective='regression',\n",
       "               random_state=42, reg_alpha=0.1, reg_lambda=0.1, subsample=0.8,\n",
       "               verbosity=-1),\n",
       " LGBMRegressor(colsample_bytree=0.8, learning_rate=0.05, max_depth=6,\n",
       "               metric='rmse', n_estimators=150, objective='regression',\n",
       "               random_state=42, reg_alpha=0.1, reg_lambda=0.1, subsample=0.8,\n",
       "               verbosity=-1))"
      ]
     },
     "execution_count": 58,
     "metadata": {},
     "output_type": "execute_result"
    }
   ],
   "source": [
    "df_copy = df.copy()\n",
    "df_copy = df_copy.drop(columns=['NDVI_range'])\n",
    "train_pipeline(df_copy)"
   ]
  },
  {
   "cell_type": "code",
   "execution_count": 59,
   "id": "402e2bd8-6f75-4caa-bfab-100a3adfe9bf",
   "metadata": {
    "collapsed": true,
    "jupyter": {
     "outputs_hidden": true,
     "source_hidden": true
    },
    "tags": []
   },
   "outputs": [
    {
     "name": "stdout",
     "output_type": "stream",
     "text": [
      "Validation 2020:\n",
      "✅ Preprocessing Assessment — RMSE: 29.3086\n",
      "Validation 2021:\n",
      "✅ Preprocessing Assessment — RMSE: 23.8507\n"
     ]
    },
    {
     "data": {
      "text/plain": [
       "(LGBMRegressor(colsample_bytree=0.8, learning_rate=0.05, max_depth=6,\n",
       "               metric='rmse', n_estimators=150, objective='regression',\n",
       "               random_state=42, reg_alpha=0.1, reg_lambda=0.1, subsample=0.8,\n",
       "               verbosity=-1),\n",
       " LGBMRegressor(colsample_bytree=0.8, learning_rate=0.05, max_depth=6,\n",
       "               metric='rmse', n_estimators=150, objective='regression',\n",
       "               random_state=42, reg_alpha=0.1, reg_lambda=0.1, subsample=0.8,\n",
       "               verbosity=-1))"
      ]
     },
     "execution_count": 59,
     "metadata": {},
     "output_type": "execute_result"
    }
   ],
   "source": [
    "df_copy = df.copy()\n",
    "df_copy = df_copy.drop(columns=['NDVI_min'])\n",
    "train_pipeline(df_copy)"
   ]
  },
  {
   "cell_type": "code",
   "execution_count": 60,
   "id": "3933bb60-f81e-4254-b60c-71c527e65455",
   "metadata": {
    "collapsed": true,
    "jupyter": {
     "outputs_hidden": true,
     "source_hidden": true
    },
    "tags": []
   },
   "outputs": [
    {
     "name": "stdout",
     "output_type": "stream",
     "text": [
      "Validation 2020:\n",
      "✅ Preprocessing Assessment — RMSE: 29.6547\n",
      "Validation 2021:\n",
      "✅ Preprocessing Assessment — RMSE: 24.9057\n"
     ]
    },
    {
     "data": {
      "text/plain": [
       "(LGBMRegressor(colsample_bytree=0.8, learning_rate=0.05, max_depth=6,\n",
       "               metric='rmse', n_estimators=150, objective='regression',\n",
       "               random_state=42, reg_alpha=0.1, reg_lambda=0.1, subsample=0.8,\n",
       "               verbosity=-1),\n",
       " LGBMRegressor(colsample_bytree=0.8, learning_rate=0.05, max_depth=6,\n",
       "               metric='rmse', n_estimators=150, objective='regression',\n",
       "               random_state=42, reg_alpha=0.1, reg_lambda=0.1, subsample=0.8,\n",
       "               verbosity=-1))"
      ]
     },
     "execution_count": 60,
     "metadata": {},
     "output_type": "execute_result"
    }
   ],
   "source": [
    "df_copy = df.copy()\n",
    "df_copy = df_copy.drop(columns=['NDVI_median'])\n",
    "train_pipeline(df_copy)"
   ]
  },
  {
   "cell_type": "code",
   "execution_count": 61,
   "id": "75cb9805-7aa9-4d26-9825-607892d34805",
   "metadata": {
    "collapsed": true,
    "jupyter": {
     "outputs_hidden": true,
     "source_hidden": true
    },
    "tags": []
   },
   "outputs": [
    {
     "name": "stdout",
     "output_type": "stream",
     "text": [
      "Validation 2020:\n",
      "✅ Preprocessing Assessment — RMSE: 29.9305\n",
      "Validation 2021:\n",
      "✅ Preprocessing Assessment — RMSE: 25.0524\n"
     ]
    },
    {
     "data": {
      "text/plain": [
       "(LGBMRegressor(colsample_bytree=0.8, learning_rate=0.05, max_depth=6,\n",
       "               metric='rmse', n_estimators=150, objective='regression',\n",
       "               random_state=42, reg_alpha=0.1, reg_lambda=0.1, subsample=0.8,\n",
       "               verbosity=-1),\n",
       " LGBMRegressor(colsample_bytree=0.8, learning_rate=0.05, max_depth=6,\n",
       "               metric='rmse', n_estimators=150, objective='regression',\n",
       "               random_state=42, reg_alpha=0.1, reg_lambda=0.1, subsample=0.8,\n",
       "               verbosity=-1))"
      ]
     },
     "execution_count": 61,
     "metadata": {},
     "output_type": "execute_result"
    }
   ],
   "source": [
    "df_copy = df.copy()\n",
    "df_copy = df_copy.drop(columns=['NDVI_time_to_max'])\n",
    "train_pipeline(df_copy)"
   ]
  },
  {
   "cell_type": "code",
   "execution_count": 62,
   "id": "215c0156-2982-431e-86be-5b0e20e2fb54",
   "metadata": {
    "collapsed": true,
    "jupyter": {
     "outputs_hidden": true,
     "source_hidden": true
    },
    "tags": []
   },
   "outputs": [
    {
     "name": "stdout",
     "output_type": "stream",
     "text": [
      "Validation 2020:\n",
      "✅ Preprocessing Assessment — RMSE: 29.2054\n",
      "Validation 2021:\n",
      "✅ Preprocessing Assessment — RMSE: 24.0780\n"
     ]
    },
    {
     "data": {
      "text/plain": [
       "(LGBMRegressor(colsample_bytree=0.8, learning_rate=0.05, max_depth=6,\n",
       "               metric='rmse', n_estimators=150, objective='regression',\n",
       "               random_state=42, reg_alpha=0.1, reg_lambda=0.1, subsample=0.8,\n",
       "               verbosity=-1),\n",
       " LGBMRegressor(colsample_bytree=0.8, learning_rate=0.05, max_depth=6,\n",
       "               metric='rmse', n_estimators=150, objective='regression',\n",
       "               random_state=42, reg_alpha=0.1, reg_lambda=0.1, subsample=0.8,\n",
       "               verbosity=-1))"
      ]
     },
     "execution_count": 62,
     "metadata": {},
     "output_type": "execute_result"
    }
   ],
   "source": [
    "df_copy = df.copy()\n",
    "df_copy = df_copy.drop(columns=['NDVI_min', 'NDVI_median'])\n",
    "train_pipeline(df_copy)"
   ]
  },
  {
   "cell_type": "code",
   "execution_count": 63,
   "id": "33b73731-5898-47fd-970b-de1b3741447a",
   "metadata": {
    "collapsed": true,
    "jupyter": {
     "outputs_hidden": true,
     "source_hidden": true
    },
    "tags": []
   },
   "outputs": [
    {
     "name": "stdout",
     "output_type": "stream",
     "text": [
      "Validation 2020:\n",
      "✅ Preprocessing Assessment — RMSE: 29.2054\n",
      "Validation 2021:\n",
      "✅ Preprocessing Assessment — RMSE: 24.0780\n"
     ]
    },
    {
     "data": {
      "text/plain": [
       "(LGBMRegressor(colsample_bytree=0.8, learning_rate=0.05, max_depth=6,\n",
       "               metric='rmse', n_estimators=150, objective='regression',\n",
       "               random_state=42, reg_alpha=0.1, reg_lambda=0.1, subsample=0.8,\n",
       "               verbosity=-1),\n",
       " LGBMRegressor(colsample_bytree=0.8, learning_rate=0.05, max_depth=6,\n",
       "               metric='rmse', n_estimators=150, objective='regression',\n",
       "               random_state=42, reg_alpha=0.1, reg_lambda=0.1, subsample=0.8,\n",
       "               verbosity=-1))"
      ]
     },
     "execution_count": 63,
     "metadata": {},
     "output_type": "execute_result"
    }
   ],
   "source": [
    "df_copy = df.copy()\n",
    "df_copy = df_copy.drop(columns=['NDVI_min', 'NDVI_median'])\n",
    "train_pipeline(df_copy)"
   ]
  },
  {
   "cell_type": "code",
   "execution_count": 64,
   "id": "7912bc2c-ec33-4568-b03c-4897893f325d",
   "metadata": {
    "collapsed": true,
    "jupyter": {
     "outputs_hidden": true,
     "source_hidden": true
    },
    "tags": []
   },
   "outputs": [
    {
     "name": "stdout",
     "output_type": "stream",
     "text": [
      "Validation 2020:\n",
      "✅ Preprocessing Assessment — RMSE: 28.3986\n",
      "Validation 2021:\n",
      "✅ Preprocessing Assessment — RMSE: 25.5600\n"
     ]
    },
    {
     "data": {
      "text/plain": [
       "(LGBMRegressor(colsample_bytree=0.8, learning_rate=0.05, max_depth=6,\n",
       "               metric='rmse', n_estimators=150, objective='regression',\n",
       "               random_state=42, reg_alpha=0.1, reg_lambda=0.1, subsample=0.8,\n",
       "               verbosity=-1),\n",
       " LGBMRegressor(colsample_bytree=0.8, learning_rate=0.05, max_depth=6,\n",
       "               metric='rmse', n_estimators=150, objective='regression',\n",
       "               random_state=42, reg_alpha=0.1, reg_lambda=0.1, subsample=0.8,\n",
       "               verbosity=-1))"
      ]
     },
     "execution_count": 64,
     "metadata": {},
     "output_type": "execute_result"
    }
   ],
   "source": [
    "df_copy = df.copy()\n",
    "df_copy['NDVI_veg'] = df_copy[['NDVI_li_5', 'NDVI_li_6']].mean(axis=1)\n",
    "df_copy['NDVI_rep'] = df_copy[['NDVI_li_7', 'NDVI_li_8']].mean(axis=1)\n",
    "\n",
    "# Índice ALLSKY * NDVI\n",
    "df_copy['ALLSKY_NDVI_veg'] = df_copy['ALLSKY_days_ideal_veg'] * df_copy['NDVI_veg']\n",
    "df_copy['ALLSKY_NDVI_rep'] = df_copy['ALLSKY_days_ideal_rep'] * df_copy['NDVI_rep']\n",
    "df_copy = df_copy.drop(columns=['NDVI_veg', 'NDVI_rep'])\n",
    "train_pipeline(df_copy)"
   ]
  },
  {
   "cell_type": "markdown",
   "id": "7608334d-af75-426a-b9cc-95b71434ac46",
   "metadata": {},
   "source": [
    "# Check Best Features according to the model & removal by graph (notebook 4) and by importance\n",
    "______________________"
   ]
  },
  {
   "cell_type": "code",
   "execution_count": 65,
   "id": "26320390-4822-43a8-8937-6ebe8f494859",
   "metadata": {
    "collapsed": true,
    "jupyter": {
     "outputs_hidden": true
    },
    "tags": []
   },
   "outputs": [
    {
     "name": "stdout",
     "output_type": "stream",
     "text": [
      "Validation 2020:\n",
      "✅ Preprocessing Assessment — RMSE: 29.0180\n",
      "Validation 2021:\n",
      "✅ Preprocessing Assessment — RMSE: 25.2765\n",
      "Top features para 2020:\n",
      "                                Feature  Importance\n",
      "66       trimmed_mean_productivity_city         362\n",
      "1                           ET0_sum_veg          70\n",
      "65                        ALLSKY_NDVI_8          67\n",
      "63                        ALLSKY_NDVI_6          64\n",
      "0                                  作付面積          60\n",
      "46                                T2M_8          59\n",
      "47                                   緯度          58\n",
      "25        ALLSKY_days_extremely_low_rep          56\n",
      "7                           SWD_sum_veg          48\n",
      "30                             ALLSKY_8          48\n",
      "48                                   経度          48\n",
      "60                          NDVI_median          47\n",
      "36              RH2M_days_very_high_rep          45\n",
      "52                            NDVI_li_8          45\n",
      "20                  ALLSKY_days_low_veg          42\n",
      "6                           PTU_sum_rep          41\n",
      "51                            NDVI_li_7          41\n",
      "14                          GDD_sum_rep          39\n",
      "22                 ALLSKY_days_high_veg          39\n",
      "44                                T2M_6          38\n",
      "2                           ET0_sum_rep          38\n",
      "50                            NDVI_li_6          38\n",
      "28                             ALLSKY_6          36\n",
      "43                                T2M_5          36\n",
      "62                        ALLSKY_NDVI_5          36\n",
      "12                          VPD_sum_rep          35\n",
      "19                ALLSKY_days_ideal_veg          34\n",
      "57                             NDVI_std          34\n",
      "58                           NDVI_range          32\n",
      "45                                T2M_7          32\n",
      "54                             NDVI_AUC          29\n",
      "40          T2M_days_ideal_reproductive          28\n",
      "3                           PTI_sum_veg          27\n",
      "64                        ALLSKY_NDVI_7          27\n",
      "11                          VPD_sum_veg          26\n",
      "32                   RH2M_days_high_veg          25\n",
      "5                           PTU_sum_veg          24\n",
      "31                  RH2M_days_ideal_veg          24\n",
      "9                           SWD_sum_rep          20\n",
      "39    T2M_days_extremely_low_vegetative          20\n",
      "29                             ALLSKY_7          20\n",
      "26                 ALLSKY_days_high_rep          19\n",
      "56                             NDVI_max          19\n",
      "42  T2M_days_extremely_low_reproductive          18\n",
      "18                 ideal_combo_days_rep          17\n",
      "27                             ALLSKY_5          17\n",
      "13                          GDD_sum_veg          17\n",
      "35                   RH2M_days_high_rep          16\n",
      "37            T2M_days_ideal_vegetative          16\n",
      "34                  RH2M_days_ideal_rep          14\n",
      "16                stress_combo_days_rep          14\n",
      "8                          SWD_mean_veg          13\n",
      "49                            NDVI_li_5          13\n",
      "10                         SWD_mean_rep          12\n",
      "21        ALLSKY_days_extremely_low_veg          12\n",
      "4                           PTI_sum_rep          12\n",
      "33              RH2M_days_very_high_veg          10\n",
      "55                            NDVI_mean           9\n",
      "15                stress_combo_days_veg           9\n",
      "23                ALLSKY_days_ideal_rep           9\n",
      "24                  ALLSKY_days_low_rep           9\n",
      "41            T2M_days_low_reproductive           9\n",
      "59                             NDVI_min           8\n",
      "38              T2M_days_low_vegetative           7\n",
      "61                     NDVI_time_to_max           5\n",
      "17                 ideal_combo_days_veg           4\n",
      "53                    NDVI_active_count           0\n",
      "\n",
      "Top features para 2021:\n",
      "                                Feature  Importance\n",
      "66       trimmed_mean_productivity_city         348\n",
      "44                                T2M_6          87\n",
      "65                        ALLSKY_NDVI_8          67\n",
      "46                                T2M_8          67\n",
      "43                                T2M_5          67\n",
      "52                            NDVI_li_8          61\n",
      "47                                   緯度          60\n",
      "25        ALLSKY_days_extremely_low_rep          58\n",
      "63                        ALLSKY_NDVI_6          57\n",
      "60                          NDVI_median          54\n",
      "30                             ALLSKY_8          53\n",
      "29                             ALLSKY_7          51\n",
      "0                                  作付面積          50\n",
      "6                           PTU_sum_rep          48\n",
      "12                          VPD_sum_rep          48\n",
      "45                                T2M_7          47\n",
      "3                           PTI_sum_veg          46\n",
      "50                            NDVI_li_6          46\n",
      "20                  ALLSKY_days_low_veg          45\n",
      "1                           ET0_sum_veg          44\n",
      "32                   RH2M_days_high_veg          42\n",
      "64                        ALLSKY_NDVI_7          41\n",
      "36              RH2M_days_very_high_rep          41\n",
      "7                           SWD_sum_veg          40\n",
      "14                          GDD_sum_rep          38\n",
      "62                        ALLSKY_NDVI_5          37\n",
      "2                           ET0_sum_rep          36\n",
      "27                             ALLSKY_5          34\n",
      "48                                   経度          32\n",
      "40          T2M_days_ideal_reproductive          31\n",
      "58                           NDVI_range          31\n",
      "22                 ALLSKY_days_high_veg          31\n",
      "19                ALLSKY_days_ideal_veg          29\n",
      "57                             NDVI_std          27\n",
      "5                           PTU_sum_veg          27\n",
      "4                           PTI_sum_rep          27\n",
      "28                             ALLSKY_6          26\n",
      "35                   RH2M_days_high_rep          26\n",
      "11                          VPD_sum_veg          26\n",
      "51                            NDVI_li_7          25\n",
      "31                  RH2M_days_ideal_veg          22\n",
      "38              T2M_days_low_vegetative          21\n",
      "56                             NDVI_max          20\n",
      "16                stress_combo_days_rep          20\n",
      "9                           SWD_sum_rep          19\n",
      "33              RH2M_days_very_high_veg          18\n",
      "23                ALLSKY_days_ideal_rep          18\n",
      "37            T2M_days_ideal_vegetative          18\n",
      "15                stress_combo_days_veg          18\n",
      "26                 ALLSKY_days_high_rep          18\n",
      "21        ALLSKY_days_extremely_low_veg          17\n",
      "54                             NDVI_AUC          16\n",
      "24                  ALLSKY_days_low_rep          16\n",
      "39    T2M_days_extremely_low_vegetative          14\n",
      "34                  RH2M_days_ideal_rep          13\n",
      "49                            NDVI_li_5          12\n",
      "41            T2M_days_low_reproductive          11\n",
      "18                 ideal_combo_days_rep          11\n",
      "8                          SWD_mean_veg          10\n",
      "42  T2M_days_extremely_low_reproductive          10\n",
      "13                          GDD_sum_veg           7\n",
      "59                             NDVI_min           7\n",
      "55                            NDVI_mean           6\n",
      "61                     NDVI_time_to_max           4\n",
      "17                 ideal_combo_days_veg           1\n",
      "10                         SWD_mean_rep           1\n",
      "53                    NDVI_active_count           0\n"
     ]
    }
   ],
   "source": [
    "pd.set_option('display.max_rows', None)\n",
    "\n",
    "df_copy = df.copy()\n",
    "model_1, model_2 = train_pipeline(df_copy)\n",
    "\n",
    "# Para model_1\n",
    "importances_1 = model_1.feature_importances_\n",
    "feature_names_1 = model_1.feature_name_\n",
    "\n",
    "# Para model_2\n",
    "importances_2 = model_2.feature_importances_\n",
    "feature_names_2 = model_2.feature_name_\n",
    "\n",
    "# Model 1 (Validation 2020)\n",
    "feat_imp_1 = pd.DataFrame({\n",
    "    'Feature': feature_names_1,\n",
    "    'Importance': importances_1\n",
    "}).sort_values(by='Importance', ascending=False)\n",
    "\n",
    "# Model 2 (Validation 2021)\n",
    "feat_imp_2 = pd.DataFrame({\n",
    "    'Feature': feature_names_2,\n",
    "    'Importance': importances_2\n",
    "}).sort_values(by='Importance', ascending=False)\n",
    "\n",
    "print(\"Top features para 2020:\")\n",
    "print(feat_imp_1)\n",
    "\n",
    "print(\"\\nTop features para 2021:\")\n",
    "print(feat_imp_2)"
   ]
  },
  {
   "cell_type": "code",
   "execution_count": 66,
   "id": "6158c424-6b6e-4fc8-9531-545151cd62bf",
   "metadata": {},
   "outputs": [
    {
     "name": "stdout",
     "output_type": "stream",
     "text": [
      "Validation 2020:\n",
      "✅ Preprocessing Assessment — RMSE: 26.2375\n",
      "Validation 2021:\n",
      "✅ Preprocessing Assessment — RMSE: 22.7299\n"
     ]
    },
    {
     "data": {
      "text/plain": [
       "(LGBMRegressor(colsample_bytree=0.8, learning_rate=0.05, max_depth=6,\n",
       "               metric='rmse', n_estimators=150, objective='regression',\n",
       "               random_state=42, reg_alpha=0.1, reg_lambda=0.1, subsample=0.8,\n",
       "               verbosity=-1),\n",
       " LGBMRegressor(colsample_bytree=0.8, learning_rate=0.05, max_depth=6,\n",
       "               metric='rmse', n_estimators=150, objective='regression',\n",
       "               random_state=42, reg_alpha=0.1, reg_lambda=0.1, subsample=0.8,\n",
       "               verbosity=-1))"
      ]
     },
     "execution_count": 66,
     "metadata": {},
     "output_type": "execute_result"
    }
   ],
   "source": [
    "features_less_important = [\n",
    "    \"ET0_sum_veg\",\n",
    "    \"ET0_sum_rep\",\n",
    "    \"PTI_sum_veg\",\n",
    "    \"PTI_sum_rep\",\n",
    "    \"SWD_sum_veg\",\n",
    "    \"SWD_sum_rep\",\n",
    "    \"SWD_mean_rep\",\n",
    "    \"SWD_mean_veg\",\n",
    "    \"T2M_days_ideal_vegetative\",\n",
    "    \"T2M_days_ideal_reproductive\",\n",
    "    \"T2M_days_low_vegetative\",\n",
    "    \"T2M_days_low_reproductive\",\n",
    "    \"T2M_days_extremely_low_vegetative\",\n",
    "    \"T2M_days_extremely_low_reproductive\",\n",
    "    \"ALLSKY_days_ideal_veg\",\n",
    "    \"ALLSKY_days_ideal_rep\",\n",
    "    \"ALLSKY_days_low_veg\",\n",
    "    \"ALLSKY_days_low_rep\",\n",
    "    \"ALLSKY_days_high_veg\",\n",
    "    \"ALLSKY_days_high_rep\",\n",
    "    \"RH2M_days_ideal_veg\",\n",
    "    \"RH2M_days_high_veg\",\n",
    "    \"RH2M_days_very_high_veg\",\n",
    "    \"NDVI_active_count\",\n",
    "    \"NDVI_AUC\",\n",
    "    \"NDVI_mean\",\n",
    "    \"NDVI_max\",\n",
    "    \"NDVI_std\",\n",
    "    \"NDVI_range\",\n",
    "    \"NDVI_min\",\n",
    "    \"NDVI_median\",\n",
    "    \"NDVI_time_to_max\",\n",
    "    \"RH2M_days_very_high_veg\",\n",
    "    \"NDVI_li_5\",\n",
    "    \"NDVI_li_6\",\n",
    "    \"NDVI_li_7\",\n",
    "    \"NDVI_li_8\"\n",
    "]\n",
    "\n",
    "df_copy = df.copy()\n",
    "df_copy = df_copy.drop(columns=features_less_important)\n",
    "train_pipeline(df_copy)"
   ]
  },
  {
   "cell_type": "markdown",
   "id": "542c030d-d45a-4adc-b2ed-18dd42863308",
   "metadata": {},
   "source": [
    "# Key Features average per year assessment\n",
    "______________________________"
   ]
  },
  {
   "cell_type": "code",
   "execution_count": 67,
   "id": "f1cea2d0-bbd2-4b37-94fc-7b04546a55c4",
   "metadata": {
    "tags": []
   },
   "outputs": [],
   "source": [
    "def add_yearly_averages(df, features_to_average):\n",
    "    \"\"\"\n",
    "    Computes the year average for selected features and adds them\n",
    "    as new features with suffix '_year_average'.\n",
    "\n",
    "    Parameters:\n",
    "        df (pd.DataFrame): Original DataFrame with a 'year' column.\n",
    "        features_to_average (list): List of feature names (str) to compute year averages.\n",
    "\n",
    "    Returns:\n",
    "        pd.DataFrame: DataFrame with new '_year_average' features added.\n",
    "    \"\"\"\n",
    "    # Compute mean per year only for selected features\n",
    "    yearly_means = df.groupby('year')[features_to_average].mean()\n",
    "    yearly_means = yearly_means.add_prefix('year_average_').reset_index()\n",
    "\n",
    "    # Merge back into the original DataFrame\n",
    "    df = df.merge(yearly_means, on='year', how='left')\n",
    "\n",
    "    return df"
   ]
  },
  {
   "cell_type": "code",
   "execution_count": 91,
   "id": "35da7984-a580-4ea6-8913-1e0573fa39d1",
   "metadata": {
    "collapsed": true,
    "jupyter": {
     "outputs_hidden": true
    },
    "tags": []
   },
   "outputs": [
    {
     "name": "stdout",
     "output_type": "stream",
     "text": [
      "Validation 2020:\n",
      "✅ Preprocessing Assessment — RMSE: 23.9158\n",
      "Validation 2021:\n",
      "✅ Preprocessing Assessment — RMSE: 22.8008\n",
      "Top features para 2020:\n",
      "                           Feature  Importance\n",
      "40  trimmed_mean_productivity_city         381\n",
      "0                             作付面積         126\n",
      "29                   ALLSKY_NDVI_8         125\n",
      "27                   ALLSKY_NDVI_6         119\n",
      "24                              緯度          99\n",
      "28                   ALLSKY_NDVI_7          85\n",
      "25                              経度          84\n",
      "16                        ALLSKY_8          83\n",
      "31        year_average_GDD_sum_rep          77\n",
      "26                   ALLSKY_NDVI_5          74\n",
      "23                           T2M_8          74\n",
      "15                        ALLSKY_7          66\n",
      "21                           T2M_6          63\n",
      "20                           T2M_5          60\n",
      "2                      PTU_sum_rep          59\n",
      "3                      VPD_sum_veg          58\n",
      "14                        ALLSKY_6          58\n",
      "4                      VPD_sum_rep          56\n",
      "13                        ALLSKY_5          54\n",
      "22                           T2M_7          51\n",
      "5                      GDD_sum_veg          50\n",
      "6                      GDD_sum_rep          49\n",
      "1                      PTU_sum_veg          48\n",
      "12   ALLSKY_days_extremely_low_rep          43\n",
      "19         RH2M_days_very_high_rep          42\n",
      "11   ALLSKY_days_extremely_low_veg          38\n",
      "17             RH2M_days_ideal_rep          37\n",
      "8            stress_combo_days_rep          34\n",
      "18              RH2M_days_high_rep          34\n",
      "7            stress_combo_days_veg          24\n",
      "30        year_average_GDD_sum_veg          22\n",
      "35        year_average_VPD_sum_rep          14\n",
      "9             ideal_combo_days_veg           6\n",
      "33        year_average_PTU_sum_rep           6\n",
      "37      year_average_ALLSKY_NDVI_6           4\n",
      "36      year_average_ALLSKY_NDVI_5           3\n",
      "39      year_average_ALLSKY_NDVI_8           3\n",
      "10            ideal_combo_days_rep           2\n",
      "34        year_average_VPD_sum_veg           2\n",
      "32        year_average_PTU_sum_veg           1\n",
      "38      year_average_ALLSKY_NDVI_7           1\n",
      "\n",
      "Top features para 2021:\n",
      "                           Feature  Importance\n",
      "40  trimmed_mean_productivity_city         380\n",
      "29                   ALLSKY_NDVI_8         129\n",
      "27                   ALLSKY_NDVI_6         115\n",
      "23                           T2M_8         110\n",
      "21                           T2M_6         104\n",
      "28                   ALLSKY_NDVI_7         100\n",
      "31        year_average_GDD_sum_rep          93\n",
      "24                              緯度          89\n",
      "0                             作付面積          89\n",
      "26                   ALLSKY_NDVI_5          86\n",
      "16                        ALLSKY_8          83\n",
      "20                           T2M_5          77\n",
      "2                      PTU_sum_rep          77\n",
      "25                              経度          75\n",
      "15                        ALLSKY_7          69\n",
      "14                        ALLSKY_6          67\n",
      "1                      PTU_sum_veg          63\n",
      "3                      VPD_sum_veg          61\n",
      "22                           T2M_7          57\n",
      "6                      GDD_sum_rep          57\n",
      "4                      VPD_sum_rep          54\n",
      "13                        ALLSKY_5          51\n",
      "30        year_average_GDD_sum_veg          45\n",
      "18              RH2M_days_high_rep          44\n",
      "12   ALLSKY_days_extremely_low_rep          43\n",
      "19         RH2M_days_very_high_rep          37\n",
      "8            stress_combo_days_rep          36\n",
      "5                      GDD_sum_veg          34\n",
      "11   ALLSKY_days_extremely_low_veg          33\n",
      "17             RH2M_days_ideal_rep          29\n",
      "7            stress_combo_days_veg          28\n",
      "36      year_average_ALLSKY_NDVI_5          26\n",
      "35        year_average_VPD_sum_rep          24\n",
      "10            ideal_combo_days_rep          11\n",
      "37      year_average_ALLSKY_NDVI_6          11\n",
      "33        year_average_PTU_sum_rep           9\n",
      "34        year_average_VPD_sum_veg           9\n",
      "9             ideal_combo_days_veg           7\n",
      "32        year_average_PTU_sum_veg           6\n",
      "38      year_average_ALLSKY_NDVI_7           3\n",
      "39      year_average_ALLSKY_NDVI_8           0\n"
     ]
    }
   ],
   "source": [
    "key_features = ['GDD_sum_veg', 'GDD_sum_rep',\n",
    "               'PTU_sum_veg', 'PTU_sum_rep',\n",
    "               'VPD_sum_veg', 'VPD_sum_rep',\n",
    "               'ALLSKY_NDVI_5', 'ALLSKY_NDVI_6',\n",
    "               'ALLSKY_NDVI_7', 'ALLSKY_NDVI_8']\n",
    "\n",
    "df_copy = df.copy()\n",
    "\n",
    "df_copy = df_copy.drop(columns=features_less_important)\n",
    "\n",
    "df_copy = add_yearly_averages(df=df_copy, features_to_average = key_features)\n",
    "model_1, model_2 = train_pipeline(df_copy)\n",
    "\n",
    "# Para model_1\n",
    "importances_1 = model_1.feature_importances_\n",
    "feature_names_1 = model_1.feature_name_\n",
    "\n",
    "# Para model_2\n",
    "importances_2 = model_2.feature_importances_\n",
    "feature_names_2 = model_2.feature_name_\n",
    "\n",
    "# Model 1 (Validation 2020)\n",
    "feat_imp_1 = pd.DataFrame({\n",
    "    'Feature': feature_names_1,\n",
    "    'Importance': importances_1\n",
    "}).sort_values(by='Importance', ascending=False)\n",
    "\n",
    "# Model 2 (Validation 2021)\n",
    "feat_imp_2 = pd.DataFrame({\n",
    "    'Feature': feature_names_2,\n",
    "    'Importance': importances_2\n",
    "}).sort_values(by='Importance', ascending=False)\n",
    "\n",
    "print(\"Top features para 2020:\")\n",
    "print(feat_imp_1)\n",
    "\n",
    "print(\"\\nTop features para 2021:\")\n",
    "print(feat_imp_2)"
   ]
  },
  {
   "cell_type": "markdown",
   "id": "ae2174d5-fea5-4a3d-b802-762355cd2ecf",
   "metadata": {},
   "source": [
    "# Gridsearch on LightGBM\n",
    "_____________________"
   ]
  },
  {
   "cell_type": "code",
   "execution_count": null,
   "id": "fa5001df-9f12-4d08-ae68-2d6a39eb9d8c",
   "metadata": {
    "jupyter": {
     "source_hidden": true
    },
    "tags": []
   },
   "outputs": [],
   "source": [
    "features_less_important = [\"ET0_sum_veg\",\n",
    "                           \"ET0_sum_rep\",\n",
    "                           \"PTI_sum_veg\",\n",
    "                           \"PTI_sum_rep\",\n",
    "                           \"SWD_sum_veg\",\n",
    "                           \"SWD_sum_rep\",\n",
    "                           \"SWD_mean_rep\",\n",
    "                           \"SWD_mean_veg\",\n",
    "                           \"T2M_days_ideal_vegetative\",\n",
    "                           \"T2M_days_ideal_reproductive\",\n",
    "                           \"T2M_days_low_vegetative\",\n",
    "                           \"T2M_days_low_reproductive\",\n",
    "                           \"T2M_days_extremely_low_vegetative\",\n",
    "                           \"T2M_days_extremely_low_reproductive\",\n",
    "                           \"ALLSKY_days_ideal_veg\",\n",
    "                           \"ALLSKY_days_ideal_rep\",\n",
    "                           \"ALLSKY_days_low_veg\",\n",
    "                           \"ALLSKY_days_low_rep\",\n",
    "                           \"ALLSKY_days_high_veg\",\n",
    "                           \"ALLSKY_days_high_rep\",\n",
    "                           \"RH2M_days_ideal_veg\",\n",
    "                           \"RH2M_days_high_veg\",\n",
    "                           \"RH2M_days_very_high_veg\",\n",
    "                           \"NDVI_active_count\",\n",
    "                           \"NDVI_AUC\",\"NDVI_mean\",\n",
    "                           \"NDVI_max\",\"NDVI_std\",\n",
    "                           \"NDVI_range\",\n",
    "                           \"NDVI_min\",\n",
    "                           \"NDVI_median\",\n",
    "                           \"NDVI_time_to_max\",\n",
    "                           \"RH2M_days_very_high_veg\",\n",
    "                           \"NDVI_li_5\",\n",
    "                           \"NDVI_li_6\",\n",
    "                           \"NDVI_li_7\",\n",
    "                           \"NDVI_li_8\"]\n",
    "\n",
    "key_features = ['GDD_sum_veg', 'GDD_sum_rep',\n",
    "               'PTU_sum_veg', 'PTU_sum_rep',\n",
    "               'VPD_sum_veg', 'VPD_sum_rep',\n",
    "               'ALLSKY_NDVI_5', 'ALLSKY_NDVI_6',\n",
    "               'ALLSKY_NDVI_7', 'ALLSKY_NDVI_8']"
   ]
  },
  {
   "cell_type": "code",
   "execution_count": 97,
   "id": "bd64f609-ab62-403b-bcbc-4322cfcb9d6b",
   "metadata": {
    "jupyter": {
     "source_hidden": true
    },
    "tags": []
   },
   "outputs": [],
   "source": [
    "from sklearn.metrics import mean_squared_error\n",
    "from lightgbm import LGBMRegressor\n",
    "import numpy as np\n",
    "import itertools\n",
    "\n",
    "def grid_search_LGBM(df, year_predict):\n",
    "    \"\"\"\n",
    "    Preprocessa os dados, faz split temporal, e executa um grid search manual\n",
    "    avaliando cada configuração diretamente no ano de validação (hold-out).\n",
    "    \"\"\"\n",
    "    # 1) Preprocess: drop e yearly averages\n",
    "    df_copy = df.copy()\n",
    "    df_copy = df_copy.drop(columns=features_less_important)\n",
    "    df_copy = add_yearly_averages(df=df_copy, features_to_average=key_features)\n",
    "    \n",
    "    # 2) Split temporal\n",
    "    df_train, df_test = temporal_aware_train_test_split(df=df_copy, year_predict=year_predict)\n",
    "    X_train, X_test, y_train, y_test = trimmed_add_city_historical_mean_feature(\n",
    "        df_train=df_train,\n",
    "        df_test=df_test,\n",
    "        year_predict=year_predict\n",
    "    )\n",
    "    \n",
    "    # 3) Definir grid de hiperparâmetros\n",
    "    param_grid = {\n",
    "        'n_estimators': [100, 150, 200],\n",
    "        'learning_rate': [0.01, 0.05, 0.1],\n",
    "        'num_leaves': [31, 50, 100],\n",
    "        'max_depth': [4, 6, 8],\n",
    "        'subsample': [0.6, 0.8, 1.0],\n",
    "        'colsample_bytree': [0.6, 0.8, 1.0],\n",
    "        'reg_alpha': [0.0, 0.1, 1.0],\n",
    "        'reg_lambda': [0.0, 0.1, 1.0],\n",
    "        'min_child_samples': [10, 20, 30]\n",
    "    }\n",
    "    \n",
    "    # 4) Loop sobre todas as combinações\n",
    "    best_rmse = float('inf')\n",
    "    best_params = None\n",
    "    best_model = None\n",
    "    \n",
    "    # Para cada combinação possível\n",
    "    for combo in itertools.product(*param_grid.values()):\n",
    "        params = dict(zip(param_grid.keys(), combo))\n",
    "        model = LGBMRegressor(\n",
    "            objective='regression',\n",
    "            metric='rmse',\n",
    "            random_state=42,\n",
    "            verbosity=-1,\n",
    "            **params\n",
    "        )\n",
    "        model.fit(X_train, y_train)\n",
    "        y_pred = model.predict(X_test)\n",
    "        rmse = mean_squared_error(y_test, y_pred, squared=False)\n",
    "        \n",
    "        # se for o melhor até agora, guarda\n",
    "        if rmse < best_rmse:\n",
    "            best_rmse = rmse\n",
    "            best_params = params\n",
    "            best_model = model\n",
    "    \n",
    "    # 5) Report\n",
    "    print(f\"\\n🔍 Best params for year {year_predict}:\")\n",
    "    for k, v in best_params.items():\n",
    "        print(f\"   {k} = {v}\")\n",
    "    print(f\"📊 Test RMSE for year {year_predict}: {best_rmse:.4f}\")\n",
    "    \n",
    "    return best_model, {\n",
    "        'best_params': best_params,\n",
    "        'test_rmse': best_rmse\n",
    "    }"
   ]
  },
  {
   "cell_type": "code",
   "execution_count": 98,
   "id": "2df4f9b8-61cc-443c-858c-672757f4a111",
   "metadata": {},
   "outputs": [
    {
     "name": "stdout",
     "output_type": "stream",
     "text": [
      "\n",
      "🔍 Best params for year 2020:\n",
      "   n_estimators = 100\n",
      "   learning_rate = 0.1\n",
      "   num_leaves = 31\n",
      "   max_depth = 4\n",
      "   subsample = 0.6\n",
      "   colsample_bytree = 0.8\n",
      "   reg_alpha = 0.0\n",
      "   reg_lambda = 0.0\n",
      "   min_child_samples = 30\n",
      "📊 Test RMSE for year 2020: 22.8409\n"
     ]
    },
    {
     "data": {
      "text/plain": [
       "(LGBMRegressor(colsample_bytree=0.8, max_depth=4, metric='rmse',\n",
       "               min_child_samples=30, objective='regression', random_state=42,\n",
       "               subsample=0.6, verbosity=-1),\n",
       " {'best_params': {'n_estimators': 100,\n",
       "   'learning_rate': 0.1,\n",
       "   'num_leaves': 31,\n",
       "   'max_depth': 4,\n",
       "   'subsample': 0.6,\n",
       "   'colsample_bytree': 0.8,\n",
       "   'reg_alpha': 0.0,\n",
       "   'reg_lambda': 0.0,\n",
       "   'min_child_samples': 30},\n",
       "  'test_rmse': 22.840913943598462})"
      ]
     },
     "execution_count": 98,
     "metadata": {},
     "output_type": "execute_result"
    }
   ],
   "source": [
    "grid_search_LGBM(df=df, year_predict=2020)"
   ]
  },
  {
   "cell_type": "code",
   "execution_count": 99,
   "id": "9583aad3-1097-499f-83b6-afaa926d7897",
   "metadata": {},
   "outputs": [
    {
     "name": "stdout",
     "output_type": "stream",
     "text": [
      "\n",
      "🔍 Best params for year 2021:\n",
      "   n_estimators = 150\n",
      "   learning_rate = 0.05\n",
      "   num_leaves = 31\n",
      "   max_depth = 4\n",
      "   subsample = 0.6\n",
      "   colsample_bytree = 1.0\n",
      "   reg_alpha = 0.0\n",
      "   reg_lambda = 0.1\n",
      "   min_child_samples = 10\n",
      "📊 Test RMSE for year 2021: 19.0673\n"
     ]
    },
    {
     "data": {
      "text/plain": [
       "(LGBMRegressor(learning_rate=0.05, max_depth=4, metric='rmse',\n",
       "               min_child_samples=10, n_estimators=150, objective='regression',\n",
       "               random_state=42, reg_lambda=0.1, subsample=0.6, verbosity=-1),\n",
       " {'best_params': {'n_estimators': 150,\n",
       "   'learning_rate': 0.05,\n",
       "   'num_leaves': 31,\n",
       "   'max_depth': 4,\n",
       "   'subsample': 0.6,\n",
       "   'colsample_bytree': 1.0,\n",
       "   'reg_alpha': 0.0,\n",
       "   'reg_lambda': 0.1,\n",
       "   'min_child_samples': 10},\n",
       "  'test_rmse': 19.06729310059526})"
      ]
     },
     "execution_count": 99,
     "metadata": {},
     "output_type": "execute_result"
    }
   ],
   "source": [
    "grid_search_LGBM(df=df, year_predict=2021)"
   ]
  },
  {
   "cell_type": "markdown",
   "id": "75f63d6e-19aa-4040-886a-afdcdb4cfc9f",
   "metadata": {},
   "source": [
    "# Best for LGBM\n",
    "______________________"
   ]
  },
  {
   "cell_type": "code",
   "execution_count": 102,
   "id": "54a0e1a0-8a98-465b-9a4f-4f0932b0c167",
   "metadata": {
    "tags": []
   },
   "outputs": [],
   "source": [
    "def assessment_model_2(X_train, X_test, y_train, y_test):\n",
    "    \"\"\"\n",
    "    Quickly evaluates the performance of a model after preprocessing,\n",
    "    using a balanced LightGBM configuration.\n",
    "    \"\"\"\n",
    "    model = LGBMRegressor(\n",
    "        objective='regression',\n",
    "        metric='rmse',\n",
    "        num_leaves=31,\n",
    "        max_depth=4,\n",
    "        min_child_samples=30,\n",
    "        subsample=0.6,\n",
    "        colsample_bytree=0.8,\n",
    "        learning_rate=0.10,\n",
    "        n_estimators=100,\n",
    "        reg_alpha=0.0,\n",
    "        reg_lambda=0.0,\n",
    "        random_state=42,\n",
    "        verbosity=-1\n",
    "    )\n",
    "\n",
    "    model.fit(X_train, y_train)\n",
    "    preds = model.predict(X_test)\n",
    "    rmse = mean_squared_error(y_test, preds, squared=False)\n",
    "\n",
    "    print(f\"✅ Preprocessing Assessment — RMSE: {rmse:.4f}\")\n",
    "    \n",
    "    return model"
   ]
  },
  {
   "cell_type": "code",
   "execution_count": 129,
   "id": "9f5cd620-2106-4cc8-a765-72885480c095",
   "metadata": {},
   "outputs": [
    {
     "name": "stdout",
     "output_type": "stream",
     "text": [
      "✅ Preprocessing Assessment — RMSE: 21.7802\n"
     ]
    },
    {
     "data": {
      "text/html": [
       "<style>#sk-container-id-24 {color: black;background-color: white;}#sk-container-id-24 pre{padding: 0;}#sk-container-id-24 div.sk-toggleable {background-color: white;}#sk-container-id-24 label.sk-toggleable__label {cursor: pointer;display: block;width: 100%;margin-bottom: 0;padding: 0.3em;box-sizing: border-box;text-align: center;}#sk-container-id-24 label.sk-toggleable__label-arrow:before {content: \"▸\";float: left;margin-right: 0.25em;color: #696969;}#sk-container-id-24 label.sk-toggleable__label-arrow:hover:before {color: black;}#sk-container-id-24 div.sk-estimator:hover label.sk-toggleable__label-arrow:before {color: black;}#sk-container-id-24 div.sk-toggleable__content {max-height: 0;max-width: 0;overflow: hidden;text-align: left;background-color: #f0f8ff;}#sk-container-id-24 div.sk-toggleable__content pre {margin: 0.2em;color: black;border-radius: 0.25em;background-color: #f0f8ff;}#sk-container-id-24 input.sk-toggleable__control:checked~div.sk-toggleable__content {max-height: 200px;max-width: 100%;overflow: auto;}#sk-container-id-24 input.sk-toggleable__control:checked~label.sk-toggleable__label-arrow:before {content: \"▾\";}#sk-container-id-24 div.sk-estimator input.sk-toggleable__control:checked~label.sk-toggleable__label {background-color: #d4ebff;}#sk-container-id-24 div.sk-label input.sk-toggleable__control:checked~label.sk-toggleable__label {background-color: #d4ebff;}#sk-container-id-24 input.sk-hidden--visually {border: 0;clip: rect(1px 1px 1px 1px);clip: rect(1px, 1px, 1px, 1px);height: 1px;margin: -1px;overflow: hidden;padding: 0;position: absolute;width: 1px;}#sk-container-id-24 div.sk-estimator {font-family: monospace;background-color: #f0f8ff;border: 1px dotted black;border-radius: 0.25em;box-sizing: border-box;margin-bottom: 0.5em;}#sk-container-id-24 div.sk-estimator:hover {background-color: #d4ebff;}#sk-container-id-24 div.sk-parallel-item::after {content: \"\";width: 100%;border-bottom: 1px solid gray;flex-grow: 1;}#sk-container-id-24 div.sk-label:hover label.sk-toggleable__label {background-color: #d4ebff;}#sk-container-id-24 div.sk-serial::before {content: \"\";position: absolute;border-left: 1px solid gray;box-sizing: border-box;top: 0;bottom: 0;left: 50%;z-index: 0;}#sk-container-id-24 div.sk-serial {display: flex;flex-direction: column;align-items: center;background-color: white;padding-right: 0.2em;padding-left: 0.2em;position: relative;}#sk-container-id-24 div.sk-item {position: relative;z-index: 1;}#sk-container-id-24 div.sk-parallel {display: flex;align-items: stretch;justify-content: center;background-color: white;position: relative;}#sk-container-id-24 div.sk-item::before, #sk-container-id-24 div.sk-parallel-item::before {content: \"\";position: absolute;border-left: 1px solid gray;box-sizing: border-box;top: 0;bottom: 0;left: 50%;z-index: -1;}#sk-container-id-24 div.sk-parallel-item {display: flex;flex-direction: column;z-index: 1;position: relative;background-color: white;}#sk-container-id-24 div.sk-parallel-item:first-child::after {align-self: flex-end;width: 50%;}#sk-container-id-24 div.sk-parallel-item:last-child::after {align-self: flex-start;width: 50%;}#sk-container-id-24 div.sk-parallel-item:only-child::after {width: 0;}#sk-container-id-24 div.sk-dashed-wrapped {border: 1px dashed gray;margin: 0 0.4em 0.5em 0.4em;box-sizing: border-box;padding-bottom: 0.4em;background-color: white;}#sk-container-id-24 div.sk-label label {font-family: monospace;font-weight: bold;display: inline-block;line-height: 1.2em;}#sk-container-id-24 div.sk-label-container {text-align: center;}#sk-container-id-24 div.sk-container {/* jupyter's `normalize.less` sets `[hidden] { display: none; }` but bootstrap.min.css set `[hidden] { display: none !important; }` so we also need the `!important` here to be able to override the default hidden behavior on the sphinx rendered scikit-learn.org. See: https://github.com/scikit-learn/scikit-learn/issues/21755 */display: inline-block !important;position: relative;}#sk-container-id-24 div.sk-text-repr-fallback {display: none;}</style><div id=\"sk-container-id-24\" class=\"sk-top-container\"><div class=\"sk-text-repr-fallback\"><pre>LGBMRegressor(colsample_bytree=0.8, max_depth=4, metric=&#x27;rmse&#x27;,\n",
       "              min_child_samples=30, objective=&#x27;regression&#x27;, random_state=42,\n",
       "              subsample=0.6, verbosity=-1)</pre><b>In a Jupyter environment, please rerun this cell to show the HTML representation or trust the notebook. <br />On GitHub, the HTML representation is unable to render, please try loading this page with nbviewer.org.</b></div><div class=\"sk-container\" hidden><div class=\"sk-item\"><div class=\"sk-estimator sk-toggleable\"><input class=\"sk-toggleable__control sk-hidden--visually\" id=\"sk-estimator-id-24\" type=\"checkbox\" checked><label for=\"sk-estimator-id-24\" class=\"sk-toggleable__label sk-toggleable__label-arrow\">LGBMRegressor</label><div class=\"sk-toggleable__content\"><pre>LGBMRegressor(colsample_bytree=0.8, max_depth=4, metric=&#x27;rmse&#x27;,\n",
       "              min_child_samples=30, objective=&#x27;regression&#x27;, random_state=42,\n",
       "              subsample=0.6, verbosity=-1)</pre></div></div></div></div></div>"
      ],
      "text/plain": [
       "LGBMRegressor(colsample_bytree=0.8, max_depth=4, metric='rmse',\n",
       "              min_child_samples=30, objective='regression', random_state=42,\n",
       "              subsample=0.6, verbosity=-1)"
      ]
     },
     "execution_count": 129,
     "metadata": {},
     "output_type": "execute_result"
    }
   ],
   "source": [
    "df_copy = df.copy()\n",
    "df_copy = df_copy.drop(columns=features_less_important)\n",
    "df_copy = add_yearly_averages(df=df_copy, features_to_average=key_features)\n",
    "    \n",
    "year_predict = 2021\n",
    "    \n",
    "df_train, df_test = temporal_aware_train_test_split(df=df_copy, year_predict=year_predict)\n",
    "X_train, X_test, y_train, y_test = trimmed_add_city_historical_mean_feature(\n",
    "    df_train=df_train,\n",
    "    df_test=df_test,\n",
    "    year_predict=year_predict)\n",
    "assessment_model_2(X_train=X_train, X_test=X_test, y_train=y_train, y_test=y_test)"
   ]
  },
  {
   "cell_type": "code",
   "execution_count": 128,
   "id": "ecf222f7-ad04-4932-8219-5cec3f85e594",
   "metadata": {},
   "outputs": [
    {
     "data": {
      "text/plain": [
       "Index(['作付面積', 'PTU_sum_veg', 'PTU_sum_rep', 'VPD_sum_veg', 'VPD_sum_rep',\n",
       "       'GDD_sum_veg', 'GDD_sum_rep', 'stress_combo_days_veg',\n",
       "       'stress_combo_days_rep', 'ideal_combo_days_veg', 'ideal_combo_days_rep',\n",
       "       'ALLSKY_days_extremely_low_veg', 'ALLSKY_days_extremely_low_rep',\n",
       "       'ALLSKY_5', 'ALLSKY_6', 'ALLSKY_7', 'ALLSKY_8', 'RH2M_days_ideal_rep',\n",
       "       'RH2M_days_high_rep', 'RH2M_days_very_high_rep', 'T2M_5', 'T2M_6',\n",
       "       'T2M_7', 'T2M_8', '緯度', '経度', 'ALLSKY_NDVI_5', 'ALLSKY_NDVI_6',\n",
       "       'ALLSKY_NDVI_7', 'ALLSKY_NDVI_8', 'year_average_GDD_sum_veg',\n",
       "       'year_average_GDD_sum_rep', 'year_average_PTU_sum_veg',\n",
       "       'year_average_PTU_sum_rep', 'year_average_VPD_sum_veg',\n",
       "       'year_average_VPD_sum_rep', 'year_average_ALLSKY_NDVI_5',\n",
       "       'year_average_ALLSKY_NDVI_6', 'year_average_ALLSKY_NDVI_7',\n",
       "       'year_average_ALLSKY_NDVI_8', 'trimmed_mean_productivity_city'],\n",
       "      dtype='object')"
      ]
     },
     "execution_count": 128,
     "metadata": {},
     "output_type": "execute_result"
    }
   ],
   "source": [
    "X_train.columns"
   ]
  },
  {
   "cell_type": "markdown",
   "id": "8cd2c251-6a7a-4003-a95f-f06c395966b7",
   "metadata": {},
   "source": [
    "# Gridsearch on XGBoost\n",
    "_____________"
   ]
  },
  {
   "cell_type": "code",
   "execution_count": 106,
   "id": "6183d40f-0eb8-4442-af5d-52008f95eeab",
   "metadata": {
    "jupyter": {
     "source_hidden": true
    },
    "tags": []
   },
   "outputs": [],
   "source": [
    "from sklearn.metrics import mean_squared_error\n",
    "from xgboost import XGBRegressor\n",
    "import numpy as np\n",
    "import itertools\n",
    "\n",
    "def grid_search_XGB(df, year_predict):\n",
    "    \"\"\"\n",
    "    Preprocessa os dados, faz split temporal, e executa um grid search manual\n",
    "    com XGBRegressor, avaliando cada configuração diretamente no ano de validação.\n",
    "    \"\"\"\n",
    "    # 1) Preprocess: drop colunas menos importantes e adiciona médias anuais\n",
    "    df_copy = df.copy()\n",
    "    df_copy = df_copy.drop(columns=features_less_important)\n",
    "    df_copy = add_yearly_averages(df=df_copy, features_to_average=key_features)\n",
    "    \n",
    "    # 2) Split temporal\n",
    "    df_train, df_test = temporal_aware_train_test_split(df=df_copy, year_predict=year_predict)\n",
    "    X_train, X_test, y_train, y_test = trimmed_add_city_historical_mean_feature(\n",
    "        df_train=df_train,\n",
    "        df_test=df_test,\n",
    "        year_predict=year_predict\n",
    "    )\n",
    "    \n",
    "    # 3) Definir grid de hiperparâmetros para XGB\n",
    "    param_grid = {\n",
    "        'n_estimators': [100, 150, 200],\n",
    "        'learning_rate': [0.01, 0.05, 0.1],\n",
    "        'max_depth': [4, 6, 8],\n",
    "        'subsample': [0.6, 0.8, 1.0],\n",
    "        'colsample_bytree': [0.6, 0.8, 1.0],\n",
    "        'reg_alpha': [0.0, 0.1, 1.0],\n",
    "        'reg_lambda': [0.0, 0.1, 1.0],\n",
    "        'min_child_weight': [1, 5, 10]\n",
    "    }\n",
    "    \n",
    "    # 4) Loop sobre todas as combinações\n",
    "    best_rmse = float('inf')\n",
    "    best_params = None\n",
    "    best_model = None\n",
    "    \n",
    "    for combo in itertools.product(*param_grid.values()):\n",
    "        params = dict(zip(param_grid.keys(), combo))\n",
    "        model = XGBRegressor(\n",
    "            objective='reg:squarederror',\n",
    "            random_state=42,\n",
    "            verbosity=0,\n",
    "            **params\n",
    "        )\n",
    "        model.fit(X_train, y_train)\n",
    "        y_pred = model.predict(X_test)\n",
    "        rmse = mean_squared_error(y_test, y_pred, squared=False)\n",
    "        \n",
    "        if rmse < best_rmse:\n",
    "            best_rmse = rmse\n",
    "            best_params = params\n",
    "            best_model = model\n",
    "    \n",
    "    # 5) Report\n",
    "    print(f\"\\n🔍 Best XGB params for year {year_predict}:\")\n",
    "    for k, v in best_params.items():\n",
    "        print(f\"   {k} = {v}\")\n",
    "    print(f\"📊 Test RMSE for year {year_predict}: {best_rmse:.4f}\")\n",
    "    \n",
    "    return best_model, {'best_params': best_params, 'test_rmse': best_rmse}"
   ]
  },
  {
   "cell_type": "code",
   "execution_count": 107,
   "id": "fc8245d9-ee97-499e-9bd6-52d3f4a240ad",
   "metadata": {
    "collapsed": true,
    "jupyter": {
     "outputs_hidden": true
    },
    "tags": []
   },
   "outputs": [
    {
     "name": "stdout",
     "output_type": "stream",
     "text": [
      "\n",
      "🔍 Best XGB params for year 2020:\n",
      "   n_estimators = 200\n",
      "   learning_rate = 0.1\n",
      "   max_depth = 6\n",
      "   subsample = 0.6\n",
      "   colsample_bytree = 1.0\n",
      "   reg_alpha = 0.1\n",
      "   reg_lambda = 0.0\n",
      "   min_child_weight = 10\n",
      "📊 Test RMSE for year 2020: 21.9898\n"
     ]
    },
    {
     "data": {
      "text/plain": [
       "(XGBRegressor(base_score=None, booster=None, callbacks=None,\n",
       "              colsample_bylevel=None, colsample_bynode=None,\n",
       "              colsample_bytree=1.0, device=None, early_stopping_rounds=None,\n",
       "              enable_categorical=False, eval_metric=None, feature_types=None,\n",
       "              gamma=None, grow_policy=None, importance_type=None,\n",
       "              interaction_constraints=None, learning_rate=0.1, max_bin=None,\n",
       "              max_cat_threshold=None, max_cat_to_onehot=None,\n",
       "              max_delta_step=None, max_depth=6, max_leaves=None,\n",
       "              min_child_weight=10, missing=nan, monotone_constraints=None,\n",
       "              multi_strategy=None, n_estimators=200, n_jobs=None,\n",
       "              num_parallel_tree=None, random_state=42, ...),\n",
       " {'best_params': {'n_estimators': 200,\n",
       "   'learning_rate': 0.1,\n",
       "   'max_depth': 6,\n",
       "   'subsample': 0.6,\n",
       "   'colsample_bytree': 1.0,\n",
       "   'reg_alpha': 0.1,\n",
       "   'reg_lambda': 0.0,\n",
       "   'min_child_weight': 10},\n",
       "  'test_rmse': 21.98980084894693})"
      ]
     },
     "execution_count": 107,
     "metadata": {},
     "output_type": "execute_result"
    }
   ],
   "source": [
    "grid_search_XGB(df=df, year_predict=2020)"
   ]
  },
  {
   "cell_type": "code",
   "execution_count": 108,
   "id": "51e68959-e45d-4bfc-a0ea-52ca27d36e9f",
   "metadata": {
    "collapsed": true,
    "jupyter": {
     "outputs_hidden": true
    },
    "tags": []
   },
   "outputs": [
    {
     "name": "stdout",
     "output_type": "stream",
     "text": [
      "\n",
      "🔍 Best XGB params for year 2021:\n",
      "   n_estimators = 150\n",
      "   learning_rate = 0.05\n",
      "   max_depth = 4\n",
      "   subsample = 0.8\n",
      "   colsample_bytree = 1.0\n",
      "   reg_alpha = 0.0\n",
      "   reg_lambda = 0.1\n",
      "   min_child_weight = 5\n",
      "📊 Test RMSE for year 2021: 18.4112\n"
     ]
    },
    {
     "data": {
      "text/plain": [
       "(XGBRegressor(base_score=None, booster=None, callbacks=None,\n",
       "              colsample_bylevel=None, colsample_bynode=None,\n",
       "              colsample_bytree=1.0, device=None, early_stopping_rounds=None,\n",
       "              enable_categorical=False, eval_metric=None, feature_types=None,\n",
       "              gamma=None, grow_policy=None, importance_type=None,\n",
       "              interaction_constraints=None, learning_rate=0.05, max_bin=None,\n",
       "              max_cat_threshold=None, max_cat_to_onehot=None,\n",
       "              max_delta_step=None, max_depth=4, max_leaves=None,\n",
       "              min_child_weight=5, missing=nan, monotone_constraints=None,\n",
       "              multi_strategy=None, n_estimators=150, n_jobs=None,\n",
       "              num_parallel_tree=None, random_state=42, ...),\n",
       " {'best_params': {'n_estimators': 150,\n",
       "   'learning_rate': 0.05,\n",
       "   'max_depth': 4,\n",
       "   'subsample': 0.8,\n",
       "   'colsample_bytree': 1.0,\n",
       "   'reg_alpha': 0.0,\n",
       "   'reg_lambda': 0.1,\n",
       "   'min_child_weight': 5},\n",
       "  'test_rmse': 18.411218258214614})"
      ]
     },
     "execution_count": 108,
     "metadata": {},
     "output_type": "execute_result"
    }
   ],
   "source": [
    "grid_search_XGB(df=df, year_predict=2021)"
   ]
  },
  {
   "cell_type": "markdown",
   "id": "291367d4-2096-4bf5-a07e-620af64a51a4",
   "metadata": {},
   "source": [
    "# Best for XGB\n",
    "_______________"
   ]
  },
  {
   "cell_type": "code",
   "execution_count": 115,
   "id": "d1cb072c-ec73-4441-a16a-f95e4183f28a",
   "metadata": {
    "jupyter": {
     "source_hidden": true
    },
    "tags": []
   },
   "outputs": [],
   "source": [
    "def assessment_model_3(X_train, X_test, y_train, y_test):\n",
    "    \"\"\"\n",
    "    Quickly evaluates the performance of a model after preprocessing,\n",
    "    using a balanced LightGBM configuration.\n",
    "    \"\"\"\n",
    "    model = XGBRegressor(\n",
    "        objective='reg:squarederror',\n",
    "        random_state=42,\n",
    "        verbosity=0,\n",
    "        n_estimators = 200,\n",
    "        learning_rate = 0.1,\n",
    "        max_depth = 6,\n",
    "        subsample = 0.6,\n",
    "        colsample_bytree = 1.0,\n",
    "        reg_alpha = 0.1,\n",
    "        reg_lambda = 0.0,\n",
    "        min_child_weight = 10\n",
    "    )\n",
    "\n",
    "    model.fit(X_train, y_train)\n",
    "    preds = model.predict(X_test)\n",
    "    rmse = mean_squared_error(y_test, preds, squared=False)\n",
    "\n",
    "    print(f\"✅ Preprocessing Assessment — RMSE: {rmse:.4f}\")\n",
    "    \n",
    "    return model"
   ]
  },
  {
   "cell_type": "code",
   "execution_count": 120,
   "id": "f9d6d0aa-e3d3-4ea4-a53d-90fd774cc8d1",
   "metadata": {
    "collapsed": true,
    "jupyter": {
     "outputs_hidden": true,
     "source_hidden": true
    },
    "tags": []
   },
   "outputs": [
    {
     "name": "stdout",
     "output_type": "stream",
     "text": [
      "✅ Preprocessing Assessment — RMSE: 22.4216\n"
     ]
    },
    {
     "data": {
      "text/html": [
       "<style>#sk-container-id-22 {color: black;background-color: white;}#sk-container-id-22 pre{padding: 0;}#sk-container-id-22 div.sk-toggleable {background-color: white;}#sk-container-id-22 label.sk-toggleable__label {cursor: pointer;display: block;width: 100%;margin-bottom: 0;padding: 0.3em;box-sizing: border-box;text-align: center;}#sk-container-id-22 label.sk-toggleable__label-arrow:before {content: \"▸\";float: left;margin-right: 0.25em;color: #696969;}#sk-container-id-22 label.sk-toggleable__label-arrow:hover:before {color: black;}#sk-container-id-22 div.sk-estimator:hover label.sk-toggleable__label-arrow:before {color: black;}#sk-container-id-22 div.sk-toggleable__content {max-height: 0;max-width: 0;overflow: hidden;text-align: left;background-color: #f0f8ff;}#sk-container-id-22 div.sk-toggleable__content pre {margin: 0.2em;color: black;border-radius: 0.25em;background-color: #f0f8ff;}#sk-container-id-22 input.sk-toggleable__control:checked~div.sk-toggleable__content {max-height: 200px;max-width: 100%;overflow: auto;}#sk-container-id-22 input.sk-toggleable__control:checked~label.sk-toggleable__label-arrow:before {content: \"▾\";}#sk-container-id-22 div.sk-estimator input.sk-toggleable__control:checked~label.sk-toggleable__label {background-color: #d4ebff;}#sk-container-id-22 div.sk-label input.sk-toggleable__control:checked~label.sk-toggleable__label {background-color: #d4ebff;}#sk-container-id-22 input.sk-hidden--visually {border: 0;clip: rect(1px 1px 1px 1px);clip: rect(1px, 1px, 1px, 1px);height: 1px;margin: -1px;overflow: hidden;padding: 0;position: absolute;width: 1px;}#sk-container-id-22 div.sk-estimator {font-family: monospace;background-color: #f0f8ff;border: 1px dotted black;border-radius: 0.25em;box-sizing: border-box;margin-bottom: 0.5em;}#sk-container-id-22 div.sk-estimator:hover {background-color: #d4ebff;}#sk-container-id-22 div.sk-parallel-item::after {content: \"\";width: 100%;border-bottom: 1px solid gray;flex-grow: 1;}#sk-container-id-22 div.sk-label:hover label.sk-toggleable__label {background-color: #d4ebff;}#sk-container-id-22 div.sk-serial::before {content: \"\";position: absolute;border-left: 1px solid gray;box-sizing: border-box;top: 0;bottom: 0;left: 50%;z-index: 0;}#sk-container-id-22 div.sk-serial {display: flex;flex-direction: column;align-items: center;background-color: white;padding-right: 0.2em;padding-left: 0.2em;position: relative;}#sk-container-id-22 div.sk-item {position: relative;z-index: 1;}#sk-container-id-22 div.sk-parallel {display: flex;align-items: stretch;justify-content: center;background-color: white;position: relative;}#sk-container-id-22 div.sk-item::before, #sk-container-id-22 div.sk-parallel-item::before {content: \"\";position: absolute;border-left: 1px solid gray;box-sizing: border-box;top: 0;bottom: 0;left: 50%;z-index: -1;}#sk-container-id-22 div.sk-parallel-item {display: flex;flex-direction: column;z-index: 1;position: relative;background-color: white;}#sk-container-id-22 div.sk-parallel-item:first-child::after {align-self: flex-end;width: 50%;}#sk-container-id-22 div.sk-parallel-item:last-child::after {align-self: flex-start;width: 50%;}#sk-container-id-22 div.sk-parallel-item:only-child::after {width: 0;}#sk-container-id-22 div.sk-dashed-wrapped {border: 1px dashed gray;margin: 0 0.4em 0.5em 0.4em;box-sizing: border-box;padding-bottom: 0.4em;background-color: white;}#sk-container-id-22 div.sk-label label {font-family: monospace;font-weight: bold;display: inline-block;line-height: 1.2em;}#sk-container-id-22 div.sk-label-container {text-align: center;}#sk-container-id-22 div.sk-container {/* jupyter's `normalize.less` sets `[hidden] { display: none; }` but bootstrap.min.css set `[hidden] { display: none !important; }` so we also need the `!important` here to be able to override the default hidden behavior on the sphinx rendered scikit-learn.org. See: https://github.com/scikit-learn/scikit-learn/issues/21755 */display: inline-block !important;position: relative;}#sk-container-id-22 div.sk-text-repr-fallback {display: none;}</style><div id=\"sk-container-id-22\" class=\"sk-top-container\"><div class=\"sk-text-repr-fallback\"><pre>XGBRegressor(base_score=None, booster=None, callbacks=None,\n",
       "             colsample_bylevel=None, colsample_bynode=None,\n",
       "             colsample_bytree=1.0, device=None, early_stopping_rounds=None,\n",
       "             enable_categorical=False, eval_metric=None, feature_types=None,\n",
       "             gamma=None, grow_policy=None, importance_type=None,\n",
       "             interaction_constraints=None, learning_rate=0.1, max_bin=None,\n",
       "             max_cat_threshold=None, max_cat_to_onehot=None,\n",
       "             max_delta_step=None, max_depth=6, max_leaves=None,\n",
       "             min_child_weight=10, missing=nan, monotone_constraints=None,\n",
       "             multi_strategy=None, n_estimators=200, n_jobs=None,\n",
       "             num_parallel_tree=None, random_state=42, ...)</pre><b>In a Jupyter environment, please rerun this cell to show the HTML representation or trust the notebook. <br />On GitHub, the HTML representation is unable to render, please try loading this page with nbviewer.org.</b></div><div class=\"sk-container\" hidden><div class=\"sk-item\"><div class=\"sk-estimator sk-toggleable\"><input class=\"sk-toggleable__control sk-hidden--visually\" id=\"sk-estimator-id-22\" type=\"checkbox\" checked><label for=\"sk-estimator-id-22\" class=\"sk-toggleable__label sk-toggleable__label-arrow\">XGBRegressor</label><div class=\"sk-toggleable__content\"><pre>XGBRegressor(base_score=None, booster=None, callbacks=None,\n",
       "             colsample_bylevel=None, colsample_bynode=None,\n",
       "             colsample_bytree=1.0, device=None, early_stopping_rounds=None,\n",
       "             enable_categorical=False, eval_metric=None, feature_types=None,\n",
       "             gamma=None, grow_policy=None, importance_type=None,\n",
       "             interaction_constraints=None, learning_rate=0.1, max_bin=None,\n",
       "             max_cat_threshold=None, max_cat_to_onehot=None,\n",
       "             max_delta_step=None, max_depth=6, max_leaves=None,\n",
       "             min_child_weight=10, missing=nan, monotone_constraints=None,\n",
       "             multi_strategy=None, n_estimators=200, n_jobs=None,\n",
       "             num_parallel_tree=None, random_state=42, ...)</pre></div></div></div></div></div>"
      ],
      "text/plain": [
       "XGBRegressor(base_score=None, booster=None, callbacks=None,\n",
       "             colsample_bylevel=None, colsample_bynode=None,\n",
       "             colsample_bytree=1.0, device=None, early_stopping_rounds=None,\n",
       "             enable_categorical=False, eval_metric=None, feature_types=None,\n",
       "             gamma=None, grow_policy=None, importance_type=None,\n",
       "             interaction_constraints=None, learning_rate=0.1, max_bin=None,\n",
       "             max_cat_threshold=None, max_cat_to_onehot=None,\n",
       "             max_delta_step=None, max_depth=6, max_leaves=None,\n",
       "             min_child_weight=10, missing=nan, monotone_constraints=None,\n",
       "             multi_strategy=None, n_estimators=200, n_jobs=None,\n",
       "             num_parallel_tree=None, random_state=42, ...)"
      ]
     },
     "execution_count": 120,
     "metadata": {},
     "output_type": "execute_result"
    }
   ],
   "source": [
    "df_copy = df.copy()\n",
    "df_copy = df_copy.drop(columns=features_less_important)\n",
    "df_copy = add_yearly_averages(df=df_copy, features_to_average=key_features)\n",
    "    \n",
    "year_predict = 2021\n",
    "    \n",
    "df_train, df_test = temporal_aware_train_test_split(df=df_copy, year_predict=year_predict)\n",
    "X_train, X_test, y_train, y_test = trimmed_add_city_historical_mean_feature(\n",
    "    df_train=df_train,\n",
    "    df_test=df_test,\n",
    "    year_predict=year_predict)\n",
    "assessment_model_3(X_train=X_train, X_test=X_test, y_train=y_train, y_test=y_test)"
   ]
  },
  {
   "cell_type": "markdown",
   "id": "e3467fe4-296c-41e1-a24f-6632fe1dcb6b",
   "metadata": {},
   "source": [
    "# Baseline standart: average target per city on dataset\n",
    "_______________________"
   ]
  },
  {
   "cell_type": "markdown",
   "id": "12f87122-785f-4e86-b847-65263adc0359",
   "metadata": {},
   "source": [
    "### Trimmed\n",
    "______________________"
   ]
  },
  {
   "cell_type": "code",
   "execution_count": 123,
   "id": "d6da25b9-7085-455a-8fe6-4841f235cb06",
   "metadata": {},
   "outputs": [
    {
     "name": "stdout",
     "output_type": "stream",
     "text": [
      "📊 Baseline RMSE using trimmed_mean_productivity_city: 24.6455\n"
     ]
    }
   ],
   "source": [
    "# 1) Preprocess and split as you already have\n",
    "df_copy = df.copy()\n",
    "df_copy = df_copy.drop(columns=features_less_important)\n",
    "df_copy = add_yearly_averages(df=df_copy, features_to_average=key_features)\n",
    "    \n",
    "year_predict = 2020\n",
    "    \n",
    "df_train, df_test = temporal_aware_train_test_split(\n",
    "    df=df_copy,\n",
    "    year_predict=year_predict\n",
    ")\n",
    "\n",
    "X_train, X_test, y_train, y_test = trimmed_add_city_historical_mean_feature(\n",
    "    df_train=df_train,\n",
    "    df_test=df_test,\n",
    "    year_predict=year_predict\n",
    ")\n",
    "\n",
    "# 2) Extract the \"model\" predictions from that single feature\n",
    "y_pred_baseline = X_test['trimmed_mean_productivity_city']\n",
    "\n",
    "# 3) Compute RMSE\n",
    "baseline_rmse = mean_squared_error(y_test, y_pred_baseline, squared=False)\n",
    "print(f\"📊 Baseline RMSE using trimmed_mean_productivity_city: {baseline_rmse:.4f}\")"
   ]
  },
  {
   "cell_type": "code",
   "execution_count": 122,
   "id": "94f7da51-2599-4d69-8fc1-c3f87ab71d26",
   "metadata": {},
   "outputs": [
    {
     "name": "stdout",
     "output_type": "stream",
     "text": [
      "📊 Baseline RMSE using trimmed_mean_productivity_city: 34.7165\n"
     ]
    }
   ],
   "source": [
    "# 1) Preprocess and split as you already have\n",
    "df_copy = df.copy()\n",
    "df_copy = df_copy.drop(columns=features_less_important)\n",
    "df_copy = add_yearly_averages(df=df_copy, features_to_average=key_features)\n",
    "    \n",
    "year_predict = 2021\n",
    "    \n",
    "df_train, df_test = temporal_aware_train_test_split(\n",
    "    df=df_copy,\n",
    "    year_predict=year_predict\n",
    ")\n",
    "\n",
    "X_train, X_test, y_train, y_test = trimmed_add_city_historical_mean_feature(\n",
    "    df_train=df_train,\n",
    "    df_test=df_test,\n",
    "    year_predict=year_predict\n",
    ")\n",
    "\n",
    "# 2) Extract the \"model\" predictions from that single feature\n",
    "y_pred_baseline = X_test['trimmed_mean_productivity_city']\n",
    "\n",
    "# 3) Compute RMSE\n",
    "baseline_rmse = mean_squared_error(y_test, y_pred_baseline, squared=False)\n",
    "print(f\"📊 Baseline RMSE using trimmed_mean_productivity_city: {baseline_rmse:.4f}\")"
   ]
  },
  {
   "cell_type": "markdown",
   "id": "a7486d55-4c00-487d-8ca7-bce5c3c7e780",
   "metadata": {},
   "source": [
    "### General mean\n",
    "_______________________"
   ]
  },
  {
   "cell_type": "code",
   "execution_count": 125,
   "id": "92e5fa0c-06cb-46a7-9a24-900911bcfedf",
   "metadata": {},
   "outputs": [
    {
     "name": "stdout",
     "output_type": "stream",
     "text": [
      "📊 Baseline RMSE using trimmed_mean_productivity_city: 29.5875\n"
     ]
    }
   ],
   "source": [
    "# 1) Preprocess and split as you already have\n",
    "df_copy = df.copy()\n",
    "df_copy = df_copy.drop(columns=features_less_important)\n",
    "df_copy = add_yearly_averages(df=df_copy, features_to_average=key_features)\n",
    "    \n",
    "year_predict = 2020\n",
    "    \n",
    "df_train, df_test = temporal_aware_train_test_split(\n",
    "    df=df_copy,\n",
    "    year_predict=year_predict\n",
    ")\n",
    "\n",
    "X_train, X_test, y_train, y_test = add_city_historical_mean_feature(\n",
    "    df_train=df_train,\n",
    "    df_test=df_test,\n",
    "    year_predict=year_predict\n",
    ")\n",
    "\n",
    "# 2) Extract the \"model\" predictions from that single feature\n",
    "y_pred_baseline = X_test['mean_productivity_city']\n",
    "\n",
    "# 3) Compute RMSE\n",
    "baseline_rmse = mean_squared_error(y_test, y_pred_baseline, squared=False)\n",
    "print(f\"📊 Baseline RMSE using trimmed_mean_productivity_city: {baseline_rmse:.4f}\")"
   ]
  },
  {
   "cell_type": "code",
   "execution_count": 126,
   "id": "253b5d44-73c4-4b9d-ad66-632ebb599731",
   "metadata": {},
   "outputs": [
    {
     "name": "stdout",
     "output_type": "stream",
     "text": [
      "📊 Baseline RMSE using trimmed_mean_productivity_city: 40.0794\n"
     ]
    }
   ],
   "source": [
    "# 1) Preprocess and split as you already have\n",
    "df_copy = df.copy()\n",
    "df_copy = df_copy.drop(columns=features_less_important)\n",
    "df_copy = add_yearly_averages(df=df_copy, features_to_average=key_features)\n",
    "    \n",
    "year_predict = 2021\n",
    "    \n",
    "df_train, df_test = temporal_aware_train_test_split(\n",
    "    df=df_copy,\n",
    "    year_predict=year_predict\n",
    ")\n",
    "\n",
    "X_train, X_test, y_train, y_test = add_city_historical_mean_feature(\n",
    "    df_train=df_train,\n",
    "    df_test=df_test,\n",
    "    year_predict=year_predict\n",
    ")\n",
    "\n",
    "# 2) Extract the \"model\" predictions from that single feature\n",
    "y_pred_baseline = X_test['mean_productivity_city']\n",
    "\n",
    "# 3) Compute RMSE\n",
    "baseline_rmse = mean_squared_error(y_test, y_pred_baseline, squared=False)\n",
    "print(f\"📊 Baseline RMSE using trimmed_mean_productivity_city: {baseline_rmse:.4f}\")"
   ]
  },
  {
   "cell_type": "code",
   "execution_count": null,
   "id": "28ac7657-8383-4d34-a272-4b7b307dc51c",
   "metadata": {},
   "outputs": [],
   "source": []
  }
 ],
 "metadata": {
  "kernelspec": {
   "display_name": "Python 3 (ipykernel)",
   "language": "python",
   "name": "python3"
  },
  "language_info": {
   "codemirror_mode": {
    "name": "ipython",
    "version": 3
   },
   "file_extension": ".py",
   "mimetype": "text/x-python",
   "name": "python",
   "nbconvert_exporter": "python",
   "pygments_lexer": "ipython3",
   "version": "3.8.16"
  }
 },
 "nbformat": 4,
 "nbformat_minor": 5
}
